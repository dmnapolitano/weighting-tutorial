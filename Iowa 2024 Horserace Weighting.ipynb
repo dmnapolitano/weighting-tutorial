{
 "cells": [
  {
   "cell_type": "code",
   "execution_count": 1,
   "id": "9563da16-04eb-48aa-afcf-f341cf604580",
   "metadata": {},
   "outputs": [],
   "source": [
    "import pandas\n",
    "import matplotlib.pyplot as plt\n",
    "import seaborn as sns\n",
    "import numpy as np\n",
    "from tqdm import tqdm\n",
    "\n",
    "%matplotlib inline\n",
    "%config InlineBackend.figure_format = \"retina\"\n",
    "\n",
    "sns.set(rc={\"figure.figsize\" : (25, 15)})\n",
    "sns.set(font_scale=2)\n",
    "sns.set_style(\"ticks\")"
   ]
  },
  {
   "cell_type": "code",
   "execution_count": 2,
   "id": "78a26977-9a5a-4da3-8028-d7ed4319f725",
   "metadata": {},
   "outputs": [],
   "source": [
    "CROSSTAB_COLS = [\"CD1\", \"CD2\", \"CD3\", \"CD4\", \"VOTED_2020_TRUMP\", \"VOTED_2020_BIDEN\", \"VOTED_2020_DIDNT\",\n",
    "                 \"CHILD_LT_18\", \"EDU_NO_COLL\", \"EDU_COLL\"]\n",
    "CROSSTAB_COL_GROUPS = [[\"CD1\", \"CD2\", \"CD3\", \"CD4\"], [\"VOTED_2020_TRUMP\", \"VOTED_2020_BIDEN\", \"VOTED_2020_DIDNT\"],\n",
    "                       [\"CHILD_LT_18\"], [\"EDU_NO_COLL\", \"EDU_COLL\"]]\n",
    "CONST_COLS = [\"CANDIDATE\", \"LV\"]"
   ]
  },
  {
   "cell_type": "code",
   "execution_count": 3,
   "id": "1c825710-47f0-4df3-8309-6827fb53ede1",
   "metadata": {},
   "outputs": [
    {
     "data": {
      "text/plain": [
       "DEM      0.446568\n",
       "REP      0.539058\n",
       "OTHER    0.014374\n",
       "dtype: float64"
      ]
     },
     "execution_count": 3,
     "metadata": {},
     "output_type": "execute_result"
    }
   ],
   "source": [
    "# source: https://sos.iowa.gov/elections/pdf/VRStatsArchive/2024/CongOct24.pdf\n",
    "CD_REG_DF = pandas.DataFrame(\n",
    "    [[129541 + 48380, 127321 + 42982, 134188 + 44986, 85143 + 38710],\n",
    "     [149869 + 34385, 149972 + 30288, 151254 + 33128, 191956 + 45281],\n",
    "     [2394 + 584 + 1670 + 549, 2434 + 534 + 1509 + 528,\n",
    "      2831 + 535 + 1674 + 514, 2388 + 493 + 1754 + 572]],\n",
    "    index=[\"DEM\", \"REP\", \"OTHER\"], columns=[\"CD1\", \"CD2\", \"CD3\", \"CD4\"])\n",
    "\n",
    "CD_REG_DF.sum(axis=1) / CD_REG_DF.sum(axis=1).sum()"
   ]
  },
  {
   "cell_type": "code",
   "execution_count": 4,
   "id": "02ec8332-3417-4d52-ae40-408ff8250c26",
   "metadata": {},
   "outputs": [],
   "source": [
    "def f(weights):\n",
    "    # TODO: I don't think this is right\n",
    "    return 1 + ((np.std(weights) / np.mean(weights)) ** 2)"
   ]
  },
  {
   "cell_type": "markdown",
   "id": "fd655822-6621-468c-a3a4-175dc7e1984a",
   "metadata": {},
   "source": [
    "---\n",
    "\n",
    "## Load Crosstab"
   ]
  },
  {
   "cell_type": "code",
   "execution_count": 5,
   "id": "54741c73-c66d-4cb5-ab84-bfa0ec756b4f",
   "metadata": {},
   "outputs": [],
   "source": [
    "crosstab_df = pandas.read_csv(\"data/iowa_2024/iowa_2024_crosstab.csv\")"
   ]
  },
  {
   "cell_type": "code",
   "execution_count": 6,
   "id": "8191aa98-df5c-4a30-8585-78c7624bede3",
   "metadata": {},
   "outputs": [],
   "source": [
    "crosstab_df = crosstab_df[CONST_COLS + CROSSTAB_COLS].copy().fillna(0).set_index(\"CANDIDATE\")"
   ]
  },
  {
   "cell_type": "code",
   "execution_count": 7,
   "id": "b204b83e-58b0-4773-9be1-56a156f9d52d",
   "metadata": {},
   "outputs": [
    {
     "data": {
      "text/plain": [
       "849"
      ]
     },
     "execution_count": 7,
     "metadata": {},
     "output_type": "execute_result"
    }
   ],
   "source": [
    "total_wgt = crosstab_df[\"LV\"].loc[\"WGT\"]\n",
    "total_wgt"
   ]
  },
  {
   "cell_type": "code",
   "execution_count": 8,
   "id": "fa0f2153-380c-415a-9398-b408a6abd24a",
   "metadata": {},
   "outputs": [
    {
     "data": {
      "text/plain": [
       "78"
      ]
     },
     "execution_count": 8,
     "metadata": {},
     "output_type": "execute_result"
    }
   ],
   "source": [
    "total_wgt - (crosstab_df[\"LV\"].loc[\"HARRIS\"] + crosstab_df[\"LV\"].loc[\"TRUMP\"])"
   ]
  },
  {
   "cell_type": "code",
   "execution_count": 9,
   "id": "00eba82a-dbfd-4f14-9e38-d751d7e80823",
   "metadata": {},
   "outputs": [
    {
     "data": {
      "text/plain": [
       "LV                  78.0\n",
       "CD1                 20.0\n",
       "CD2                 21.0\n",
       "CD3                 18.0\n",
       "CD4                 19.0\n",
       "VOTED_2020_TRUMP    25.0\n",
       "VOTED_2020_BIDEN    10.0\n",
       "VOTED_2020_DIDNT    10.0\n",
       "CHILD_LT_18         21.0\n",
       "EDU_NO_COLL         51.0\n",
       "EDU_COLL            24.0\n",
       "Name: OTHER, dtype: float64"
      ]
     },
     "execution_count": 9,
     "metadata": {},
     "output_type": "execute_result"
    }
   ],
   "source": [
    "other_df = crosstab_df[~crosstab_df.index.isin([\"HARRIS\", \"TRUMP\", \"Total Unweighted Respondents\", \"WGT\"])].copy()\n",
    "other = other_df.sum(axis=0)\n",
    "other.name = \"OTHER\"\n",
    "other[\"LV\"] = other[\"LV\"] + 2\n",
    "other"
   ]
  },
  {
   "cell_type": "code",
   "execution_count": 10,
   "id": "c3a06ba2-ae87-4b67-894e-c901e214da5a",
   "metadata": {},
   "outputs": [],
   "source": [
    "crosstab_df = pandas.concat(\n",
    "    [crosstab_df[crosstab_df.index.isin([\"HARRIS\", \"TRUMP\"])], pandas.DataFrame([other])]).reset_index(names=[\"CANDIDATE\"])"
   ]
  },
  {
   "cell_type": "code",
   "execution_count": 11,
   "id": "2f1596e2-cbbc-45e9-a54d-920d17f8ccf9",
   "metadata": {},
   "outputs": [],
   "source": [
    "temp = None\n",
    "\n",
    "for group_cols in CROSSTAB_COL_GROUPS:\n",
    "    df = crosstab_df[CONST_COLS + group_cols].copy()\n",
    "    if group_cols[0] != \"CD1\":\n",
    "        unk_col = group_cols[0].split(\"_\")[0] + \"_\" + \"UNK\"\n",
    "        df[unk_col] = df[\"LV\"] - df[group_cols].sum(axis=1)\n",
    "    if temp is None:\n",
    "        temp = df.copy()\n",
    "    else:\n",
    "        temp = temp.merge(df, on=CONST_COLS, how=\"left\")\n",
    "\n",
    "crosstab_df = temp.copy()"
   ]
  },
  {
   "cell_type": "code",
   "execution_count": 12,
   "id": "a50abeae-1ac8-4607-a69d-1d2e8e043263",
   "metadata": {},
   "outputs": [
    {
     "data": {
      "text/html": [
       "<div>\n",
       "<style scoped>\n",
       "    .dataframe tbody tr th:only-of-type {\n",
       "        vertical-align: middle;\n",
       "    }\n",
       "\n",
       "    .dataframe tbody tr th {\n",
       "        vertical-align: top;\n",
       "    }\n",
       "\n",
       "    .dataframe thead th {\n",
       "        text-align: right;\n",
       "    }\n",
       "</style>\n",
       "<table border=\"1\" class=\"dataframe\">\n",
       "  <thead>\n",
       "    <tr style=\"text-align: right;\">\n",
       "      <th></th>\n",
       "      <th>CANDIDATE</th>\n",
       "      <th>LV</th>\n",
       "      <th>CD1</th>\n",
       "      <th>CD2</th>\n",
       "      <th>CD3</th>\n",
       "      <th>CD4</th>\n",
       "      <th>VOTED_2020_TRUMP</th>\n",
       "      <th>VOTED_2020_BIDEN</th>\n",
       "      <th>VOTED_2020_DIDNT</th>\n",
       "      <th>VOTED_UNK</th>\n",
       "      <th>CHILD_LT_18</th>\n",
       "      <th>CHILD_UNK</th>\n",
       "      <th>EDU_NO_COLL</th>\n",
       "      <th>EDU_COLL</th>\n",
       "      <th>EDU_UNK</th>\n",
       "    </tr>\n",
       "  </thead>\n",
       "  <tbody>\n",
       "    <tr>\n",
       "      <th>0</th>\n",
       "      <td>HARRIS</td>\n",
       "      <td>399.0</td>\n",
       "      <td>113.0</td>\n",
       "      <td>99.0</td>\n",
       "      <td>100.0</td>\n",
       "      <td>87.0</td>\n",
       "      <td>12.0</td>\n",
       "      <td>322.0</td>\n",
       "      <td>48.0</td>\n",
       "      <td>17.0</td>\n",
       "      <td>98.0</td>\n",
       "      <td>301.0</td>\n",
       "      <td>205.0</td>\n",
       "      <td>191.0</td>\n",
       "      <td>3.0</td>\n",
       "    </tr>\n",
       "    <tr>\n",
       "      <th>1</th>\n",
       "      <td>TRUMP</td>\n",
       "      <td>372.0</td>\n",
       "      <td>78.0</td>\n",
       "      <td>97.0</td>\n",
       "      <td>91.0</td>\n",
       "      <td>107.0</td>\n",
       "      <td>299.0</td>\n",
       "      <td>13.0</td>\n",
       "      <td>45.0</td>\n",
       "      <td>15.0</td>\n",
       "      <td>114.0</td>\n",
       "      <td>258.0</td>\n",
       "      <td>270.0</td>\n",
       "      <td>97.0</td>\n",
       "      <td>5.0</td>\n",
       "    </tr>\n",
       "    <tr>\n",
       "      <th>2</th>\n",
       "      <td>OTHER</td>\n",
       "      <td>78.0</td>\n",
       "      <td>20.0</td>\n",
       "      <td>21.0</td>\n",
       "      <td>18.0</td>\n",
       "      <td>19.0</td>\n",
       "      <td>25.0</td>\n",
       "      <td>10.0</td>\n",
       "      <td>10.0</td>\n",
       "      <td>33.0</td>\n",
       "      <td>21.0</td>\n",
       "      <td>57.0</td>\n",
       "      <td>51.0</td>\n",
       "      <td>24.0</td>\n",
       "      <td>3.0</td>\n",
       "    </tr>\n",
       "  </tbody>\n",
       "</table>\n",
       "</div>"
      ],
      "text/plain": [
       "  CANDIDATE     LV    CD1   CD2    CD3    CD4  VOTED_2020_TRUMP  \\\n",
       "0    HARRIS  399.0  113.0  99.0  100.0   87.0              12.0   \n",
       "1     TRUMP  372.0   78.0  97.0   91.0  107.0             299.0   \n",
       "2     OTHER   78.0   20.0  21.0   18.0   19.0              25.0   \n",
       "\n",
       "   VOTED_2020_BIDEN  VOTED_2020_DIDNT  VOTED_UNK  CHILD_LT_18  CHILD_UNK  \\\n",
       "0             322.0              48.0       17.0         98.0      301.0   \n",
       "1              13.0              45.0       15.0        114.0      258.0   \n",
       "2              10.0              10.0       33.0         21.0       57.0   \n",
       "\n",
       "   EDU_NO_COLL  EDU_COLL  EDU_UNK  \n",
       "0        205.0     191.0      3.0  \n",
       "1        270.0      97.0      5.0  \n",
       "2         51.0      24.0      3.0  "
      ]
     },
     "execution_count": 12,
     "metadata": {},
     "output_type": "execute_result"
    }
   ],
   "source": [
    "crosstab_df"
   ]
  },
  {
   "cell_type": "code",
   "execution_count": 13,
   "id": "409d0975-29ba-418a-9258-33c67e27826f",
   "metadata": {},
   "outputs": [
    {
     "data": {
      "text/plain": [
       "CANDIDATE\n",
       "HARRIS    0.469965\n",
       "TRUMP     0.438163\n",
       "OTHER     0.091873\n",
       "Name: LV, dtype: float64"
      ]
     },
     "execution_count": 13,
     "metadata": {},
     "output_type": "execute_result"
    }
   ],
   "source": [
    "crosstab_df.set_index(\"CANDIDATE\")[\"LV\"] / crosstab_df[\"LV\"].sum()"
   ]
  },
  {
   "cell_type": "code",
   "execution_count": 14,
   "id": "5477b1a7-cfd7-4a7e-a04b-b9be6d1e2791",
   "metadata": {},
   "outputs": [
    {
     "data": {
      "text/plain": [
       "0.031802"
      ]
     },
     "execution_count": 14,
     "metadata": {},
     "output_type": "execute_result"
    }
   ],
   "source": [
    "0.469965 - 0.438163"
   ]
  },
  {
   "cell_type": "markdown",
   "id": "ced40d3e-12fd-4613-937d-52652e73a81c",
   "metadata": {},
   "source": [
    "---\n",
    "\n",
    "## Basic Cell-by-Cell Weighting"
   ]
  },
  {
   "cell_type": "markdown",
   "id": "e3a26fad-a0ae-45a8-baf0-18fc348414e4",
   "metadata": {},
   "source": [
    "### Data Prep"
   ]
  },
  {
   "cell_type": "code",
   "execution_count": 234,
   "id": "f806299d-2ba4-4ccf-a644-4d7ad8b7b4bc",
   "metadata": {},
   "outputs": [
    {
     "data": {
      "text/html": [
       "<div>\n",
       "<style scoped>\n",
       "    .dataframe tbody tr th:only-of-type {\n",
       "        vertical-align: middle;\n",
       "    }\n",
       "\n",
       "    .dataframe tbody tr th {\n",
       "        vertical-align: top;\n",
       "    }\n",
       "\n",
       "    .dataframe thead th {\n",
       "        text-align: right;\n",
       "    }\n",
       "</style>\n",
       "<table border=\"1\" class=\"dataframe\">\n",
       "  <thead>\n",
       "    <tr style=\"text-align: right;\">\n",
       "      <th></th>\n",
       "      <th>B1</th>\n",
       "      <th>B2</th>\n",
       "      <th>B3</th>\n",
       "    </tr>\n",
       "  </thead>\n",
       "  <tbody>\n",
       "    <tr>\n",
       "      <th>A1</th>\n",
       "      <td>20</td>\n",
       "      <td>40</td>\n",
       "      <td>40</td>\n",
       "    </tr>\n",
       "    <tr>\n",
       "      <th>A2</th>\n",
       "      <td>50</td>\n",
       "      <td>140</td>\n",
       "      <td>310</td>\n",
       "    </tr>\n",
       "    <tr>\n",
       "      <th>A3</th>\n",
       "      <td>100</td>\n",
       "      <td>50</td>\n",
       "      <td>50</td>\n",
       "    </tr>\n",
       "    <tr>\n",
       "      <th>A4</th>\n",
       "      <td>30</td>\n",
       "      <td>100</td>\n",
       "      <td>70</td>\n",
       "    </tr>\n",
       "  </tbody>\n",
       "</table>\n",
       "</div>"
      ],
      "text/plain": [
       "     B1   B2   B3\n",
       "A1   20   40   40\n",
       "A2   50  140  310\n",
       "A3  100   50   50\n",
       "A4   30  100   70"
      ]
     },
     "execution_count": 234,
     "metadata": {},
     "output_type": "execute_result"
    }
   ],
   "source": [
    "# cols = [\"CD1\", \"CD2\", \"CD3\", \"CD4\"]\n",
    "# ct_df = crosstab_df.set_index(\"CANDIDATE\")[cd_cols].copy()\n",
    "\n",
    "cols = [\"B1\", \"B2\", \"B3\"]\n",
    "index = [\"A1\", \"A2\", \"A3\", \"A4\"]\n",
    "\n",
    "ct_df = pandas.DataFrame([[20, 40, 40], [50, 140, 310], [100, 50, 50], [30, 100, 70]],\n",
    "                         columns=cols, index=index)\n",
    "\n",
    "ct_df"
   ]
  },
  {
   "cell_type": "code",
   "execution_count": 235,
   "id": "a242920a-50c5-4f05-bcc2-798a2b5c3bc1",
   "metadata": {},
   "outputs": [
    {
     "data": {
      "text/html": [
       "<div>\n",
       "<style scoped>\n",
       "    .dataframe tbody tr th:only-of-type {\n",
       "        vertical-align: middle;\n",
       "    }\n",
       "\n",
       "    .dataframe tbody tr th {\n",
       "        vertical-align: top;\n",
       "    }\n",
       "\n",
       "    .dataframe thead th {\n",
       "        text-align: right;\n",
       "    }\n",
       "</style>\n",
       "<table border=\"1\" class=\"dataframe\">\n",
       "  <thead>\n",
       "    <tr style=\"text-align: right;\">\n",
       "      <th></th>\n",
       "      <th>B1</th>\n",
       "      <th>B2</th>\n",
       "      <th>B3</th>\n",
       "    </tr>\n",
       "  </thead>\n",
       "  <tbody>\n",
       "    <tr>\n",
       "      <th>A1</th>\n",
       "      <td>80</td>\n",
       "      <td>40</td>\n",
       "      <td>55</td>\n",
       "    </tr>\n",
       "    <tr>\n",
       "      <th>A2</th>\n",
       "      <td>60</td>\n",
       "      <td>150</td>\n",
       "      <td>340</td>\n",
       "    </tr>\n",
       "    <tr>\n",
       "      <th>A3</th>\n",
       "      <td>170</td>\n",
       "      <td>60</td>\n",
       "      <td>200</td>\n",
       "    </tr>\n",
       "    <tr>\n",
       "      <th>A4</th>\n",
       "      <td>55</td>\n",
       "      <td>165</td>\n",
       "      <td>125</td>\n",
       "    </tr>\n",
       "  </tbody>\n",
       "</table>\n",
       "</div>"
      ],
      "text/plain": [
       "     B1   B2   B3\n",
       "A1   80   40   55\n",
       "A2   60  150  340\n",
       "A3  170   60  200\n",
       "A4   55  165  125"
      ]
     },
     "execution_count": 235,
     "metadata": {},
     "output_type": "execute_result"
    }
   ],
   "source": [
    "# pop_df = CD_REG_DF.copy()\n",
    "# pop_df.index = [\"HARRIS\", \"TRUMP\", \"OTHER\"]\n",
    "\n",
    "pop_df = pandas.DataFrame([[80, 40, 55], [60, 150, 340], [170, 60, 200], [55, 165, 125]],\n",
    "                          index=index, columns=cols)\n",
    "\n",
    "pop_df"
   ]
  },
  {
   "cell_type": "markdown",
   "id": "4fabb5e6-79e9-422e-b74d-4fcd79f9e032",
   "metadata": {},
   "source": [
    "### Cell Weighting"
   ]
  },
  {
   "cell_type": "code",
   "execution_count": 236,
   "id": "0e10c636-6e7e-418c-8e33-612a37178610",
   "metadata": {},
   "outputs": [],
   "source": [
    "temp = ct_df.join(pop_df, rsuffix=\"_reg\")"
   ]
  },
  {
   "cell_type": "code",
   "execution_count": 237,
   "id": "b9c4d7a6-aefe-4bc3-acd0-6b938dc716ca",
   "metadata": {},
   "outputs": [],
   "source": [
    "for col in cols:\n",
    "    temp[col + \"_weight\"] = temp[col + \"_reg\"] / temp[col]"
   ]
  },
  {
   "cell_type": "code",
   "execution_count": 238,
   "id": "c4014898-6716-40de-85af-f9584b33e7d2",
   "metadata": {},
   "outputs": [
    {
     "data": {
      "text/plain": [
       "1.3066977054439586"
      ]
     },
     "execution_count": 238,
     "metadata": {},
     "output_type": "execute_result"
    }
   ],
   "source": [
    "f(temp[[c for c in temp.columns if c.endswith(\"_weight\")]].values)"
   ]
  },
  {
   "cell_type": "code",
   "execution_count": 239,
   "id": "44cdbb1b-b0ff-477a-9697-8b50d2adeb7e",
   "metadata": {},
   "outputs": [
    {
     "data": {
      "text/html": [
       "<div>\n",
       "<style scoped>\n",
       "    .dataframe tbody tr th:only-of-type {\n",
       "        vertical-align: middle;\n",
       "    }\n",
       "\n",
       "    .dataframe tbody tr th {\n",
       "        vertical-align: top;\n",
       "    }\n",
       "\n",
       "    .dataframe thead th {\n",
       "        text-align: right;\n",
       "    }\n",
       "</style>\n",
       "<table border=\"1\" class=\"dataframe\">\n",
       "  <thead>\n",
       "    <tr style=\"text-align: right;\">\n",
       "      <th></th>\n",
       "      <th>B1</th>\n",
       "      <th>B2</th>\n",
       "      <th>B3</th>\n",
       "      <th>B1_reg</th>\n",
       "      <th>B2_reg</th>\n",
       "      <th>B3_reg</th>\n",
       "      <th>B1_weight</th>\n",
       "      <th>B2_weight</th>\n",
       "      <th>B3_weight</th>\n",
       "    </tr>\n",
       "  </thead>\n",
       "  <tbody>\n",
       "    <tr>\n",
       "      <th>A1</th>\n",
       "      <td>20</td>\n",
       "      <td>40</td>\n",
       "      <td>40</td>\n",
       "      <td>80</td>\n",
       "      <td>40</td>\n",
       "      <td>55</td>\n",
       "      <td>4.000000</td>\n",
       "      <td>1.000000</td>\n",
       "      <td>1.375000</td>\n",
       "    </tr>\n",
       "    <tr>\n",
       "      <th>A2</th>\n",
       "      <td>50</td>\n",
       "      <td>140</td>\n",
       "      <td>310</td>\n",
       "      <td>60</td>\n",
       "      <td>150</td>\n",
       "      <td>340</td>\n",
       "      <td>1.200000</td>\n",
       "      <td>1.071429</td>\n",
       "      <td>1.096774</td>\n",
       "    </tr>\n",
       "    <tr>\n",
       "      <th>A3</th>\n",
       "      <td>100</td>\n",
       "      <td>50</td>\n",
       "      <td>50</td>\n",
       "      <td>170</td>\n",
       "      <td>60</td>\n",
       "      <td>200</td>\n",
       "      <td>1.700000</td>\n",
       "      <td>1.200000</td>\n",
       "      <td>4.000000</td>\n",
       "    </tr>\n",
       "    <tr>\n",
       "      <th>A4</th>\n",
       "      <td>30</td>\n",
       "      <td>100</td>\n",
       "      <td>70</td>\n",
       "      <td>55</td>\n",
       "      <td>165</td>\n",
       "      <td>125</td>\n",
       "      <td>1.833333</td>\n",
       "      <td>1.650000</td>\n",
       "      <td>1.785714</td>\n",
       "    </tr>\n",
       "  </tbody>\n",
       "</table>\n",
       "</div>"
      ],
      "text/plain": [
       "     B1   B2   B3  B1_reg  B2_reg  B3_reg  B1_weight  B2_weight  B3_weight\n",
       "A1   20   40   40      80      40      55   4.000000   1.000000   1.375000\n",
       "A2   50  140  310      60     150     340   1.200000   1.071429   1.096774\n",
       "A3  100   50   50     170      60     200   1.700000   1.200000   4.000000\n",
       "A4   30  100   70      55     165     125   1.833333   1.650000   1.785714"
      ]
     },
     "execution_count": 239,
     "metadata": {},
     "output_type": "execute_result"
    }
   ],
   "source": [
    "temp"
   ]
  },
  {
   "cell_type": "markdown",
   "id": "d5e4e0aa-2367-4233-b39e-5eb82e3c806f",
   "metadata": {},
   "source": [
    "---\n",
    "\n",
    "## Basic Raking"
   ]
  },
  {
   "cell_type": "code",
   "execution_count": 240,
   "id": "c2e554d1-daa0-4eee-b4b9-2531d61a2378",
   "metadata": {},
   "outputs": [],
   "source": [
    "expected_col = pop_df.sum(axis=0)\n",
    "expected_row = pop_df[cols].sum(axis=1)"
   ]
  },
  {
   "cell_type": "code",
   "execution_count": 241,
   "id": "f1b981b5-9e10-4925-b283-b297913fad44",
   "metadata": {},
   "outputs": [
    {
     "data": {
      "text/plain": [
       "A1    175\n",
       "A2    550\n",
       "A3    430\n",
       "A4    345\n",
       "dtype: int64"
      ]
     },
     "execution_count": 241,
     "metadata": {},
     "output_type": "execute_result"
    }
   ],
   "source": [
    "expected_row"
   ]
  },
  {
   "cell_type": "code",
   "execution_count": 242,
   "id": "447ec58e-193b-4eb1-8847-d37882bb1fe2",
   "metadata": {},
   "outputs": [
    {
     "data": {
      "text/plain": [
       "B1    365\n",
       "B2    415\n",
       "B3    720\n",
       "dtype: int64"
      ]
     },
     "execution_count": 242,
     "metadata": {},
     "output_type": "execute_result"
    }
   ],
   "source": [
    "expected_col"
   ]
  },
  {
   "cell_type": "code",
   "execution_count": 243,
   "id": "8a5048b9-d4d4-4659-b81f-d6a2e098eb43",
   "metadata": {},
   "outputs": [],
   "source": [
    "temp = ct_df.copy()"
   ]
  },
  {
   "cell_type": "code",
   "execution_count": 244,
   "id": "d6a6da5e-322f-4e36-bb2f-b24a4b7978f5",
   "metadata": {},
   "outputs": [
    {
     "data": {
      "text/html": [
       "<div>\n",
       "<style scoped>\n",
       "    .dataframe tbody tr th:only-of-type {\n",
       "        vertical-align: middle;\n",
       "    }\n",
       "\n",
       "    .dataframe tbody tr th {\n",
       "        vertical-align: top;\n",
       "    }\n",
       "\n",
       "    .dataframe thead th {\n",
       "        text-align: right;\n",
       "    }\n",
       "</style>\n",
       "<table border=\"1\" class=\"dataframe\">\n",
       "  <thead>\n",
       "    <tr style=\"text-align: right;\">\n",
       "      <th></th>\n",
       "      <th>B1</th>\n",
       "      <th>B2</th>\n",
       "      <th>B3</th>\n",
       "    </tr>\n",
       "  </thead>\n",
       "  <tbody>\n",
       "    <tr>\n",
       "      <th>A1</th>\n",
       "      <td>30.0</td>\n",
       "      <td>60.0</td>\n",
       "      <td>60.0</td>\n",
       "    </tr>\n",
       "    <tr>\n",
       "      <th>A2</th>\n",
       "      <td>75.0</td>\n",
       "      <td>210.0</td>\n",
       "      <td>465.0</td>\n",
       "    </tr>\n",
       "    <tr>\n",
       "      <th>A3</th>\n",
       "      <td>150.0</td>\n",
       "      <td>75.0</td>\n",
       "      <td>75.0</td>\n",
       "    </tr>\n",
       "    <tr>\n",
       "      <th>A4</th>\n",
       "      <td>45.0</td>\n",
       "      <td>150.0</td>\n",
       "      <td>105.0</td>\n",
       "    </tr>\n",
       "  </tbody>\n",
       "</table>\n",
       "</div>"
      ],
      "text/plain": [
       "       B1     B2     B3\n",
       "A1   30.0   60.0   60.0\n",
       "A2   75.0  210.0  465.0\n",
       "A3  150.0   75.0   75.0\n",
       "A4   45.0  150.0  105.0"
      ]
     },
     "execution_count": 244,
     "metadata": {},
     "output_type": "execute_result"
    }
   ],
   "source": [
    "temp = temp * (expected_row.sum() / ct_df.sum(axis=0).sum())\n",
    "temp"
   ]
  },
  {
   "cell_type": "code",
   "execution_count": 245,
   "id": "9fc393ce-eba4-48fb-914e-cf5615bf2646",
   "metadata": {},
   "outputs": [
    {
     "name": "stderr",
     "output_type": "stream",
     "text": [
      "2it [00:00, 238.63it/s]\n"
     ]
    }
   ],
   "source": [
    "with tqdm() as pbar:\n",
    "    while True:\n",
    "        rake_rows = pop_df.sum(axis=1) / temp.sum(axis=1)\n",
    "        temp = temp.mul(rake_rows, axis=0)\n",
    "        rake_cols = pop_df.sum(axis=0) / temp.sum(axis=0)\n",
    "        temp = temp.mul(rake_cols, axis=1)\n",
    "        if temp.sum(axis=1).round(0).astype(int).equals(expected_row) and temp.sum(axis=0).round(0).astype(int).equals(expected_col):\n",
    "             break\n",
    "        else:\n",
    "            pbar.update()"
   ]
  },
  {
   "cell_type": "code",
   "execution_count": 246,
   "id": "9223cdf3-a155-4ec5-a138-301c29f6efeb",
   "metadata": {},
   "outputs": [
    {
     "data": {
      "text/html": [
       "<div>\n",
       "<style scoped>\n",
       "    .dataframe tbody tr th:only-of-type {\n",
       "        vertical-align: middle;\n",
       "    }\n",
       "\n",
       "    .dataframe tbody tr th {\n",
       "        vertical-align: top;\n",
       "    }\n",
       "\n",
       "    .dataframe thead th {\n",
       "        text-align: right;\n",
       "    }\n",
       "</style>\n",
       "<table border=\"1\" class=\"dataframe\">\n",
       "  <thead>\n",
       "    <tr style=\"text-align: right;\">\n",
       "      <th></th>\n",
       "      <th>B1</th>\n",
       "      <th>B2</th>\n",
       "      <th>B3</th>\n",
       "    </tr>\n",
       "  </thead>\n",
       "  <tbody>\n",
       "    <tr>\n",
       "      <th>A1</th>\n",
       "      <td>1.811188</td>\n",
       "      <td>1.452830</td>\n",
       "      <td>2.016621</td>\n",
       "    </tr>\n",
       "    <tr>\n",
       "      <th>A2</th>\n",
       "      <td>1.084102</td>\n",
       "      <td>0.869604</td>\n",
       "      <td>1.207066</td>\n",
       "    </tr>\n",
       "    <tr>\n",
       "      <th>A3</th>\n",
       "      <td>2.195626</td>\n",
       "      <td>1.761203</td>\n",
       "      <td>2.444663</td>\n",
       "    </tr>\n",
       "    <tr>\n",
       "      <th>A4</th>\n",
       "      <td>1.833618</td>\n",
       "      <td>1.470821</td>\n",
       "      <td>2.041595</td>\n",
       "    </tr>\n",
       "  </tbody>\n",
       "</table>\n",
       "</div>"
      ],
      "text/plain": [
       "          B1        B2        B3\n",
       "A1  1.811188  1.452830  2.016621\n",
       "A2  1.084102  0.869604  1.207066\n",
       "A3  2.195626  1.761203  2.444663\n",
       "A4  1.833618  1.470821  2.041595"
      ]
     },
     "execution_count": 246,
     "metadata": {},
     "output_type": "execute_result"
    }
   ],
   "source": [
    "temp = temp.div(ct_df)\n",
    "temp"
   ]
  },
  {
   "cell_type": "code",
   "execution_count": 247,
   "id": "d9b86fed-bb4b-46c0-99df-403fd8591651",
   "metadata": {},
   "outputs": [
    {
     "data": {
      "text/plain": [
       "1.0728032347521452"
      ]
     },
     "execution_count": 247,
     "metadata": {},
     "output_type": "execute_result"
    }
   ],
   "source": [
    "f(temp.values)"
   ]
  },
  {
   "cell_type": "code",
   "execution_count": null,
   "id": "60508c8a-4a43-47c3-8e9f-b4fc1e74e53c",
   "metadata": {},
   "outputs": [],
   "source": []
  }
 ],
 "metadata": {
  "kernelspec": {
   "display_name": "Python 3 (ipykernel)",
   "language": "python",
   "name": "python3"
  },
  "language_info": {
   "codemirror_mode": {
    "name": "ipython",
    "version": 3
   },
   "file_extension": ".py",
   "mimetype": "text/x-python",
   "name": "python",
   "nbconvert_exporter": "python",
   "pygments_lexer": "ipython3",
   "version": "3.12.7"
  }
 },
 "nbformat": 4,
 "nbformat_minor": 5
}
