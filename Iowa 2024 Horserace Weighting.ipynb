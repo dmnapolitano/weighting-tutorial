{
 "cells": [
  {
   "cell_type": "code",
   "execution_count": 26,
   "id": "9563da16-04eb-48aa-afcf-f341cf604580",
   "metadata": {},
   "outputs": [],
   "source": [
    "import pandas\n",
    "import matplotlib.pyplot as plt\n",
    "import seaborn as sns\n",
    "import numpy as np\n",
    "\n",
    "from cell_weighting import CellReweighter, RakeReweighter\n",
    "\n",
    "%matplotlib inline\n",
    "%config InlineBackend.figure_format = \"retina\"\n",
    "\n",
    "sns.set(rc={\"figure.figsize\" : (25, 15)})\n",
    "sns.set(font_scale=2)\n",
    "sns.set_style(\"ticks\")"
   ]
  },
  {
   "cell_type": "code",
   "execution_count": 13,
   "id": "bad9f209-7d40-4e4a-bc7a-711ae85d2ca5",
   "metadata": {},
   "outputs": [],
   "source": [
    "%load_ext autoreload\n",
    "%autoreload 2"
   ]
  },
  {
   "cell_type": "code",
   "execution_count": 2,
   "id": "78a26977-9a5a-4da3-8028-d7ed4319f725",
   "metadata": {},
   "outputs": [],
   "source": [
    "CROSSTAB_COLS = [\"CD1\", \"CD2\", \"CD3\", \"CD4\", \"VOTED_2020_TRUMP\", \"VOTED_2020_BIDEN\", \"VOTED_2020_DIDNT\",\n",
    "                 \"CHILD_LT_18\", \"EDU_NO_COLL\", \"EDU_COLL\"]\n",
    "CROSSTAB_COL_GROUPS = [[\"CD1\", \"CD2\", \"CD3\", \"CD4\"], [\"VOTED_2020_TRUMP\", \"VOTED_2020_BIDEN\", \"VOTED_2020_DIDNT\"],\n",
    "                       [\"CHILD_LT_18\"], [\"EDU_NO_COLL\", \"EDU_COLL\"]]\n",
    "CONST_COLS = [\"CANDIDATE\", \"LV\"]"
   ]
  },
  {
   "cell_type": "code",
   "execution_count": 3,
   "id": "1c825710-47f0-4df3-8309-6827fb53ede1",
   "metadata": {},
   "outputs": [
    {
     "data": {
      "text/plain": [
       "DEM      0.446568\n",
       "REP      0.539058\n",
       "OTHER    0.014374\n",
       "dtype: float64"
      ]
     },
     "execution_count": 3,
     "metadata": {},
     "output_type": "execute_result"
    }
   ],
   "source": [
    "# source: https://sos.iowa.gov/elections/pdf/VRStatsArchive/2024/CongOct24.pdf\n",
    "CD_REG_DF = pandas.DataFrame(\n",
    "    [[129541 + 48380, 127321 + 42982, 134188 + 44986, 85143 + 38710],\n",
    "     [149869 + 34385, 149972 + 30288, 151254 + 33128, 191956 + 45281],\n",
    "     [2394 + 584 + 1670 + 549, 2434 + 534 + 1509 + 528,\n",
    "      2831 + 535 + 1674 + 514, 2388 + 493 + 1754 + 572]],\n",
    "    index=[\"DEM\", \"REP\", \"OTHER\"], columns=[\"CD1\", \"CD2\", \"CD3\", \"CD4\"])\n",
    "\n",
    "CD_REG_DF.sum(axis=1) / CD_REG_DF.sum(axis=1).sum()"
   ]
  },
  {
   "cell_type": "markdown",
   "id": "fd655822-6621-468c-a3a4-175dc7e1984a",
   "metadata": {},
   "source": [
    "---\n",
    "\n",
    "## Load Crosstab"
   ]
  },
  {
   "cell_type": "code",
   "execution_count": 5,
   "id": "54741c73-c66d-4cb5-ab84-bfa0ec756b4f",
   "metadata": {},
   "outputs": [],
   "source": [
    "crosstab_df = pandas.read_csv(\"data/iowa_2024/iowa_2024_crosstab.csv\")"
   ]
  },
  {
   "cell_type": "code",
   "execution_count": 6,
   "id": "8191aa98-df5c-4a30-8585-78c7624bede3",
   "metadata": {},
   "outputs": [],
   "source": [
    "crosstab_df = crosstab_df[CONST_COLS + CROSSTAB_COLS].copy().fillna(0).set_index(\"CANDIDATE\")"
   ]
  },
  {
   "cell_type": "code",
   "execution_count": 7,
   "id": "b204b83e-58b0-4773-9be1-56a156f9d52d",
   "metadata": {},
   "outputs": [
    {
     "data": {
      "text/plain": [
       "849"
      ]
     },
     "execution_count": 7,
     "metadata": {},
     "output_type": "execute_result"
    }
   ],
   "source": [
    "total_wgt = crosstab_df[\"LV\"].loc[\"WGT\"]\n",
    "total_wgt"
   ]
  },
  {
   "cell_type": "code",
   "execution_count": 8,
   "id": "fa0f2153-380c-415a-9398-b408a6abd24a",
   "metadata": {},
   "outputs": [
    {
     "data": {
      "text/plain": [
       "78"
      ]
     },
     "execution_count": 8,
     "metadata": {},
     "output_type": "execute_result"
    }
   ],
   "source": [
    "total_wgt - (crosstab_df[\"LV\"].loc[\"HARRIS\"] + crosstab_df[\"LV\"].loc[\"TRUMP\"])"
   ]
  },
  {
   "cell_type": "code",
   "execution_count": 9,
   "id": "00eba82a-dbfd-4f14-9e38-d751d7e80823",
   "metadata": {},
   "outputs": [
    {
     "data": {
      "text/plain": [
       "LV                  78.0\n",
       "CD1                 20.0\n",
       "CD2                 21.0\n",
       "CD3                 18.0\n",
       "CD4                 19.0\n",
       "VOTED_2020_TRUMP    25.0\n",
       "VOTED_2020_BIDEN    10.0\n",
       "VOTED_2020_DIDNT    10.0\n",
       "CHILD_LT_18         21.0\n",
       "EDU_NO_COLL         51.0\n",
       "EDU_COLL            24.0\n",
       "Name: OTHER, dtype: float64"
      ]
     },
     "execution_count": 9,
     "metadata": {},
     "output_type": "execute_result"
    }
   ],
   "source": [
    "other_df = crosstab_df[~crosstab_df.index.isin([\"HARRIS\", \"TRUMP\", \"Total Unweighted Respondents\", \"WGT\"])].copy()\n",
    "other = other_df.sum(axis=0)\n",
    "other.name = \"OTHER\"\n",
    "other[\"LV\"] = other[\"LV\"] + 2\n",
    "other"
   ]
  },
  {
   "cell_type": "code",
   "execution_count": 10,
   "id": "c3a06ba2-ae87-4b67-894e-c901e214da5a",
   "metadata": {},
   "outputs": [],
   "source": [
    "crosstab_df = pandas.concat(\n",
    "    [crosstab_df[crosstab_df.index.isin([\"HARRIS\", \"TRUMP\"])], pandas.DataFrame([other])]).reset_index(names=[\"CANDIDATE\"])"
   ]
  },
  {
   "cell_type": "code",
   "execution_count": 11,
   "id": "2f1596e2-cbbc-45e9-a54d-920d17f8ccf9",
   "metadata": {},
   "outputs": [],
   "source": [
    "temp = None\n",
    "\n",
    "for group_cols in CROSSTAB_COL_GROUPS:\n",
    "    df = crosstab_df[CONST_COLS + group_cols].copy()\n",
    "    if group_cols[0] != \"CD1\":\n",
    "        unk_col = group_cols[0].split(\"_\")[0] + \"_\" + \"UNK\"\n",
    "        df[unk_col] = df[\"LV\"] - df[group_cols].sum(axis=1)\n",
    "    if temp is None:\n",
    "        temp = df.copy()\n",
    "    else:\n",
    "        temp = temp.merge(df, on=CONST_COLS, how=\"left\")\n",
    "\n",
    "crosstab_df = temp.copy()"
   ]
  },
  {
   "cell_type": "code",
   "execution_count": 12,
   "id": "a50abeae-1ac8-4607-a69d-1d2e8e043263",
   "metadata": {},
   "outputs": [
    {
     "data": {
      "text/html": [
       "<div>\n",
       "<style scoped>\n",
       "    .dataframe tbody tr th:only-of-type {\n",
       "        vertical-align: middle;\n",
       "    }\n",
       "\n",
       "    .dataframe tbody tr th {\n",
       "        vertical-align: top;\n",
       "    }\n",
       "\n",
       "    .dataframe thead th {\n",
       "        text-align: right;\n",
       "    }\n",
       "</style>\n",
       "<table border=\"1\" class=\"dataframe\">\n",
       "  <thead>\n",
       "    <tr style=\"text-align: right;\">\n",
       "      <th></th>\n",
       "      <th>CANDIDATE</th>\n",
       "      <th>LV</th>\n",
       "      <th>CD1</th>\n",
       "      <th>CD2</th>\n",
       "      <th>CD3</th>\n",
       "      <th>CD4</th>\n",
       "      <th>VOTED_2020_TRUMP</th>\n",
       "      <th>VOTED_2020_BIDEN</th>\n",
       "      <th>VOTED_2020_DIDNT</th>\n",
       "      <th>VOTED_UNK</th>\n",
       "      <th>CHILD_LT_18</th>\n",
       "      <th>CHILD_UNK</th>\n",
       "      <th>EDU_NO_COLL</th>\n",
       "      <th>EDU_COLL</th>\n",
       "      <th>EDU_UNK</th>\n",
       "    </tr>\n",
       "  </thead>\n",
       "  <tbody>\n",
       "    <tr>\n",
       "      <th>0</th>\n",
       "      <td>HARRIS</td>\n",
       "      <td>399.0</td>\n",
       "      <td>113.0</td>\n",
       "      <td>99.0</td>\n",
       "      <td>100.0</td>\n",
       "      <td>87.0</td>\n",
       "      <td>12.0</td>\n",
       "      <td>322.0</td>\n",
       "      <td>48.0</td>\n",
       "      <td>17.0</td>\n",
       "      <td>98.0</td>\n",
       "      <td>301.0</td>\n",
       "      <td>205.0</td>\n",
       "      <td>191.0</td>\n",
       "      <td>3.0</td>\n",
       "    </tr>\n",
       "    <tr>\n",
       "      <th>1</th>\n",
       "      <td>TRUMP</td>\n",
       "      <td>372.0</td>\n",
       "      <td>78.0</td>\n",
       "      <td>97.0</td>\n",
       "      <td>91.0</td>\n",
       "      <td>107.0</td>\n",
       "      <td>299.0</td>\n",
       "      <td>13.0</td>\n",
       "      <td>45.0</td>\n",
       "      <td>15.0</td>\n",
       "      <td>114.0</td>\n",
       "      <td>258.0</td>\n",
       "      <td>270.0</td>\n",
       "      <td>97.0</td>\n",
       "      <td>5.0</td>\n",
       "    </tr>\n",
       "    <tr>\n",
       "      <th>2</th>\n",
       "      <td>OTHER</td>\n",
       "      <td>78.0</td>\n",
       "      <td>20.0</td>\n",
       "      <td>21.0</td>\n",
       "      <td>18.0</td>\n",
       "      <td>19.0</td>\n",
       "      <td>25.0</td>\n",
       "      <td>10.0</td>\n",
       "      <td>10.0</td>\n",
       "      <td>33.0</td>\n",
       "      <td>21.0</td>\n",
       "      <td>57.0</td>\n",
       "      <td>51.0</td>\n",
       "      <td>24.0</td>\n",
       "      <td>3.0</td>\n",
       "    </tr>\n",
       "  </tbody>\n",
       "</table>\n",
       "</div>"
      ],
      "text/plain": [
       "  CANDIDATE     LV    CD1   CD2    CD3    CD4  VOTED_2020_TRUMP  \\\n",
       "0    HARRIS  399.0  113.0  99.0  100.0   87.0              12.0   \n",
       "1     TRUMP  372.0   78.0  97.0   91.0  107.0             299.0   \n",
       "2     OTHER   78.0   20.0  21.0   18.0   19.0              25.0   \n",
       "\n",
       "   VOTED_2020_BIDEN  VOTED_2020_DIDNT  VOTED_UNK  CHILD_LT_18  CHILD_UNK  \\\n",
       "0             322.0              48.0       17.0         98.0      301.0   \n",
       "1              13.0              45.0       15.0        114.0      258.0   \n",
       "2              10.0              10.0       33.0         21.0       57.0   \n",
       "\n",
       "   EDU_NO_COLL  EDU_COLL  EDU_UNK  \n",
       "0        205.0     191.0      3.0  \n",
       "1        270.0      97.0      5.0  \n",
       "2         51.0      24.0      3.0  "
      ]
     },
     "execution_count": 12,
     "metadata": {},
     "output_type": "execute_result"
    }
   ],
   "source": [
    "crosstab_df"
   ]
  },
  {
   "cell_type": "code",
   "execution_count": 13,
   "id": "409d0975-29ba-418a-9258-33c67e27826f",
   "metadata": {},
   "outputs": [
    {
     "data": {
      "text/plain": [
       "CANDIDATE\n",
       "HARRIS    0.469965\n",
       "TRUMP     0.438163\n",
       "OTHER     0.091873\n",
       "Name: LV, dtype: float64"
      ]
     },
     "execution_count": 13,
     "metadata": {},
     "output_type": "execute_result"
    }
   ],
   "source": [
    "crosstab_df.set_index(\"CANDIDATE\")[\"LV\"] / crosstab_df[\"LV\"].sum()"
   ]
  },
  {
   "cell_type": "code",
   "execution_count": 14,
   "id": "5477b1a7-cfd7-4a7e-a04b-b9be6d1e2791",
   "metadata": {},
   "outputs": [
    {
     "data": {
      "text/plain": [
       "0.031802"
      ]
     },
     "execution_count": 14,
     "metadata": {},
     "output_type": "execute_result"
    }
   ],
   "source": [
    "0.469965 - 0.438163"
   ]
  },
  {
   "cell_type": "markdown",
   "id": "ced40d3e-12fd-4613-937d-52652e73a81c",
   "metadata": {},
   "source": [
    "---\n",
    "\n",
    "## Basic Cell-by-Cell Weighting"
   ]
  },
  {
   "cell_type": "markdown",
   "id": "e3a26fad-a0ae-45a8-baf0-18fc348414e4",
   "metadata": {},
   "source": [
    "### Data Prep"
   ]
  },
  {
   "cell_type": "code",
   "execution_count": 39,
   "id": "f806299d-2ba4-4ccf-a644-4d7ad8b7b4bc",
   "metadata": {},
   "outputs": [
    {
     "data": {
      "text/html": [
       "<div>\n",
       "<style scoped>\n",
       "    .dataframe tbody tr th:only-of-type {\n",
       "        vertical-align: middle;\n",
       "    }\n",
       "\n",
       "    .dataframe tbody tr th {\n",
       "        vertical-align: top;\n",
       "    }\n",
       "\n",
       "    .dataframe thead th {\n",
       "        text-align: right;\n",
       "    }\n",
       "</style>\n",
       "<table border=\"1\" class=\"dataframe\">\n",
       "  <thead>\n",
       "    <tr style=\"text-align: right;\">\n",
       "      <th></th>\n",
       "      <th>B1</th>\n",
       "      <th>B2</th>\n",
       "      <th>B3</th>\n",
       "    </tr>\n",
       "  </thead>\n",
       "  <tbody>\n",
       "    <tr>\n",
       "      <th>A1</th>\n",
       "      <td>20</td>\n",
       "      <td>40</td>\n",
       "      <td>40</td>\n",
       "    </tr>\n",
       "    <tr>\n",
       "      <th>A2</th>\n",
       "      <td>50</td>\n",
       "      <td>140</td>\n",
       "      <td>310</td>\n",
       "    </tr>\n",
       "    <tr>\n",
       "      <th>A3</th>\n",
       "      <td>100</td>\n",
       "      <td>50</td>\n",
       "      <td>50</td>\n",
       "    </tr>\n",
       "    <tr>\n",
       "      <th>A4</th>\n",
       "      <td>30</td>\n",
       "      <td>100</td>\n",
       "      <td>70</td>\n",
       "    </tr>\n",
       "  </tbody>\n",
       "</table>\n",
       "</div>"
      ],
      "text/plain": [
       "     B1   B2   B3\n",
       "A1   20   40   40\n",
       "A2   50  140  310\n",
       "A3  100   50   50\n",
       "A4   30  100   70"
      ]
     },
     "execution_count": 39,
     "metadata": {},
     "output_type": "execute_result"
    }
   ],
   "source": [
    "# cols = [\"CD1\", \"CD2\", \"CD3\", \"CD4\"]\n",
    "# ct_df = crosstab_df.set_index(\"CANDIDATE\")[cd_cols].copy()\n",
    "\n",
    "cols = [\"B1\", \"B2\", \"B3\"]\n",
    "index = [\"A1\", \"A2\", \"A3\", \"A4\"]\n",
    "\n",
    "ct_df = pandas.DataFrame([[20, 40, 40], [50, 140, 310], [100, 50, 50], [30, 100, 70]],\n",
    "                         columns=cols, index=index)\n",
    "\n",
    "ct_df"
   ]
  },
  {
   "cell_type": "code",
   "execution_count": 40,
   "id": "a242920a-50c5-4f05-bcc2-798a2b5c3bc1",
   "metadata": {},
   "outputs": [
    {
     "data": {
      "text/html": [
       "<div>\n",
       "<style scoped>\n",
       "    .dataframe tbody tr th:only-of-type {\n",
       "        vertical-align: middle;\n",
       "    }\n",
       "\n",
       "    .dataframe tbody tr th {\n",
       "        vertical-align: top;\n",
       "    }\n",
       "\n",
       "    .dataframe thead th {\n",
       "        text-align: right;\n",
       "    }\n",
       "</style>\n",
       "<table border=\"1\" class=\"dataframe\">\n",
       "  <thead>\n",
       "    <tr style=\"text-align: right;\">\n",
       "      <th></th>\n",
       "      <th>B1</th>\n",
       "      <th>B2</th>\n",
       "      <th>B3</th>\n",
       "    </tr>\n",
       "  </thead>\n",
       "  <tbody>\n",
       "    <tr>\n",
       "      <th>A1</th>\n",
       "      <td>80</td>\n",
       "      <td>40</td>\n",
       "      <td>55</td>\n",
       "    </tr>\n",
       "    <tr>\n",
       "      <th>A2</th>\n",
       "      <td>60</td>\n",
       "      <td>150</td>\n",
       "      <td>340</td>\n",
       "    </tr>\n",
       "    <tr>\n",
       "      <th>A3</th>\n",
       "      <td>170</td>\n",
       "      <td>60</td>\n",
       "      <td>200</td>\n",
       "    </tr>\n",
       "    <tr>\n",
       "      <th>A4</th>\n",
       "      <td>55</td>\n",
       "      <td>165</td>\n",
       "      <td>125</td>\n",
       "    </tr>\n",
       "  </tbody>\n",
       "</table>\n",
       "</div>"
      ],
      "text/plain": [
       "     B1   B2   B3\n",
       "A1   80   40   55\n",
       "A2   60  150  340\n",
       "A3  170   60  200\n",
       "A4   55  165  125"
      ]
     },
     "execution_count": 40,
     "metadata": {},
     "output_type": "execute_result"
    }
   ],
   "source": [
    "sample_df = pandas.DataFrame([[80, 40, 55], [60, 150, 340], [170, 60, 200], [55, 165, 125]],\n",
    "                             index=index, columns=cols)\n",
    "\n",
    "sample_df"
   ]
  },
  {
   "cell_type": "code",
   "execution_count": 41,
   "id": "a354606b-1924-4dc1-97c2-da42f00cff0f",
   "metadata": {},
   "outputs": [
    {
     "data": {
      "text/html": [
       "<div>\n",
       "<style scoped>\n",
       "    .dataframe tbody tr th:only-of-type {\n",
       "        vertical-align: middle;\n",
       "    }\n",
       "\n",
       "    .dataframe tbody tr th {\n",
       "        vertical-align: top;\n",
       "    }\n",
       "\n",
       "    .dataframe thead th {\n",
       "        text-align: right;\n",
       "    }\n",
       "</style>\n",
       "<table border=\"1\" class=\"dataframe\">\n",
       "  <thead>\n",
       "    <tr style=\"text-align: right;\">\n",
       "      <th></th>\n",
       "      <th>B1</th>\n",
       "      <th>B2</th>\n",
       "      <th>B3</th>\n",
       "    </tr>\n",
       "  </thead>\n",
       "  <tbody>\n",
       "    <tr>\n",
       "      <th>A1</th>\n",
       "      <td>180</td>\n",
       "      <td>140</td>\n",
       "      <td>155</td>\n",
       "    </tr>\n",
       "    <tr>\n",
       "      <th>A2</th>\n",
       "      <td>160</td>\n",
       "      <td>250</td>\n",
       "      <td>440</td>\n",
       "    </tr>\n",
       "    <tr>\n",
       "      <th>A3</th>\n",
       "      <td>270</td>\n",
       "      <td>160</td>\n",
       "      <td>300</td>\n",
       "    </tr>\n",
       "    <tr>\n",
       "      <th>A4</th>\n",
       "      <td>155</td>\n",
       "      <td>265</td>\n",
       "      <td>225</td>\n",
       "    </tr>\n",
       "  </tbody>\n",
       "</table>\n",
       "</div>"
      ],
      "text/plain": [
       "     B1   B2   B3\n",
       "A1  180  140  155\n",
       "A2  160  250  440\n",
       "A3  270  160  300\n",
       "A4  155  265  225"
      ]
     },
     "execution_count": 41,
     "metadata": {},
     "output_type": "execute_result"
    }
   ],
   "source": [
    "# pop_df = CD_REG_DF.copy()\n",
    "# pop_df.index = [\"HARRIS\", \"TRUMP\", \"OTHER\"]\n",
    "\n",
    "pop_df = sample_df + 100\n",
    "pop_df"
   ]
  },
  {
   "cell_type": "code",
   "execution_count": 42,
   "id": "392390a4-298e-4f58-8613-627069726569",
   "metadata": {},
   "outputs": [
    {
     "data": {
      "text/plain": [
       "A1    0.116667\n",
       "A2    0.366667\n",
       "A3    0.286667\n",
       "A4    0.230000\n",
       "dtype: float64"
      ]
     },
     "execution_count": 42,
     "metadata": {},
     "output_type": "execute_result"
    }
   ],
   "source": [
    "sample_df.sum(axis=1) / sample_df.sum(axis=1).sum()"
   ]
  },
  {
   "cell_type": "markdown",
   "id": "4fabb5e6-79e9-422e-b74d-4fcd79f9e032",
   "metadata": {},
   "source": [
    "### Cell Weighting"
   ]
  },
  {
   "cell_type": "code",
   "execution_count": 23,
   "id": "be37b4b1-9686-4c58-8fe7-e218a5bc6b3f",
   "metadata": {},
   "outputs": [],
   "source": [
    "cr = CellReweighter(ct_df, sample_df, pop_df, cols)"
   ]
  },
  {
   "cell_type": "code",
   "execution_count": 24,
   "id": "beeddfd1-6d68-4747-9ff7-8a9b6ad66bb2",
   "metadata": {},
   "outputs": [
    {
     "name": "stderr",
     "output_type": "stream",
     "text": [
      "Survey crosstab vs. survey sample F = 1.3066977054439586\n",
      "Survey sample vs. population F = 1.0940603944609888\n"
     ]
    },
    {
     "data": {
      "text/html": [
       "<div>\n",
       "<style scoped>\n",
       "    .dataframe tbody tr th:only-of-type {\n",
       "        vertical-align: middle;\n",
       "    }\n",
       "\n",
       "    .dataframe tbody tr th {\n",
       "        vertical-align: top;\n",
       "    }\n",
       "\n",
       "    .dataframe thead th {\n",
       "        text-align: right;\n",
       "    }\n",
       "</style>\n",
       "<table border=\"1\" class=\"dataframe\">\n",
       "  <thead>\n",
       "    <tr style=\"text-align: right;\">\n",
       "      <th></th>\n",
       "      <th>B1</th>\n",
       "      <th>B2</th>\n",
       "      <th>B3</th>\n",
       "    </tr>\n",
       "  </thead>\n",
       "  <tbody>\n",
       "    <tr>\n",
       "      <th>A1</th>\n",
       "      <td>720.000000</td>\n",
       "      <td>140.000000</td>\n",
       "      <td>213.125000</td>\n",
       "    </tr>\n",
       "    <tr>\n",
       "      <th>A2</th>\n",
       "      <td>192.000000</td>\n",
       "      <td>267.857143</td>\n",
       "      <td>482.580645</td>\n",
       "    </tr>\n",
       "    <tr>\n",
       "      <th>A3</th>\n",
       "      <td>459.000000</td>\n",
       "      <td>192.000000</td>\n",
       "      <td>1200.000000</td>\n",
       "    </tr>\n",
       "    <tr>\n",
       "      <th>A4</th>\n",
       "      <td>284.166667</td>\n",
       "      <td>437.250000</td>\n",
       "      <td>401.785714</td>\n",
       "    </tr>\n",
       "  </tbody>\n",
       "</table>\n",
       "</div>"
      ],
      "text/plain": [
       "            B1          B2           B3\n",
       "A1  720.000000  140.000000   213.125000\n",
       "A2  192.000000  267.857143   482.580645\n",
       "A3  459.000000  192.000000  1200.000000\n",
       "A4  284.166667  437.250000   401.785714"
      ]
     },
     "execution_count": 24,
     "metadata": {},
     "output_type": "execute_result"
    }
   ],
   "source": [
    "reweighted_df = cr.reweight()\n",
    "reweighted_df"
   ]
  },
  {
   "cell_type": "code",
   "execution_count": 25,
   "id": "1b9a08c4-aadb-44fa-9476-9260088632d2",
   "metadata": {},
   "outputs": [
    {
     "data": {
      "text/plain": [
       "A1    0.215065\n",
       "A2    0.188874\n",
       "A3    0.370959\n",
       "A4    0.225101\n",
       "dtype: float64"
      ]
     },
     "execution_count": 25,
     "metadata": {},
     "output_type": "execute_result"
    }
   ],
   "source": [
    "reweighted_df.sum(axis=1) / reweighted_df.sum(axis=1).sum()"
   ]
  },
  {
   "cell_type": "markdown",
   "id": "d5e4e0aa-2367-4233-b39e-5eb82e3c806f",
   "metadata": {},
   "source": [
    "---\n",
    "\n",
    "## Basic Raking"
   ]
  },
  {
   "cell_type": "code",
   "execution_count": 27,
   "id": "c2e554d1-daa0-4eee-b4b9-2531d61a2378",
   "metadata": {},
   "outputs": [],
   "source": [
    "rr = RakeReweighter(ct_df, sample_df, pop_df, cols)"
   ]
  },
  {
   "cell_type": "code",
   "execution_count": 36,
   "id": "e28ae56c-3bf5-4e07-ad52-1b88da9d9eab",
   "metadata": {},
   "outputs": [
    {
     "name": "stderr",
     "output_type": "stream",
     "text": [
      "4it [00:00, 1170.04it/s]\n",
      "Survey crosstab vs. survey sample F = 1.0729043729523149\n",
      "4it [00:00, 1333.32it/s]\n",
      "Survey sample vs. population F = 1.0532796180516186\n"
     ]
    }
   ],
   "source": [
    "raked_df = rr.reweight()"
   ]
  },
  {
   "cell_type": "code",
   "execution_count": 37,
   "id": "f1b981b5-9e10-4925-b283-b297913fad44",
   "metadata": {},
   "outputs": [
    {
     "data": {
      "text/html": [
       "<div>\n",
       "<style scoped>\n",
       "    .dataframe tbody tr th:only-of-type {\n",
       "        vertical-align: middle;\n",
       "    }\n",
       "\n",
       "    .dataframe tbody tr th {\n",
       "        vertical-align: top;\n",
       "    }\n",
       "\n",
       "    .dataframe thead th {\n",
       "        text-align: right;\n",
       "    }\n",
       "</style>\n",
       "<table border=\"1\" class=\"dataframe\">\n",
       "  <thead>\n",
       "    <tr style=\"text-align: right;\">\n",
       "      <th></th>\n",
       "      <th>B1</th>\n",
       "      <th>B2</th>\n",
       "      <th>B3</th>\n",
       "    </tr>\n",
       "  </thead>\n",
       "  <tbody>\n",
       "    <tr>\n",
       "      <th>A1</th>\n",
       "      <td>419.246971</td>\n",
       "      <td>166.288668</td>\n",
       "      <td>260.201605</td>\n",
       "    </tr>\n",
       "    <tr>\n",
       "      <th>A2</th>\n",
       "      <td>114.201586</td>\n",
       "      <td>226.482609</td>\n",
       "      <td>584.207510</td>\n",
       "    </tr>\n",
       "    <tr>\n",
       "      <th>A3</th>\n",
       "      <td>696.239215</td>\n",
       "      <td>194.932174</td>\n",
       "      <td>739.446725</td>\n",
       "    </tr>\n",
       "    <tr>\n",
       "      <th>A4</th>\n",
       "      <td>203.572993</td>\n",
       "      <td>484.466925</td>\n",
       "      <td>417.671478</td>\n",
       "    </tr>\n",
       "  </tbody>\n",
       "</table>\n",
       "</div>"
      ],
      "text/plain": [
       "            B1          B2          B3\n",
       "A1  419.246971  166.288668  260.201605\n",
       "A2  114.201586  226.482609  584.207510\n",
       "A3  696.239215  194.932174  739.446725\n",
       "A4  203.572993  484.466925  417.671478"
      ]
     },
     "execution_count": 37,
     "metadata": {},
     "output_type": "execute_result"
    }
   ],
   "source": [
    "raked_df"
   ]
  },
  {
   "cell_type": "code",
   "execution_count": 38,
   "id": "b3c64663-2e63-467f-82c4-c056fe9cf3c3",
   "metadata": {},
   "outputs": [
    {
     "data": {
      "text/plain": [
       "A1    0.187651\n",
       "A2    0.205214\n",
       "A3    0.361800\n",
       "A4    0.245334\n",
       "dtype: float64"
      ]
     },
     "execution_count": 38,
     "metadata": {},
     "output_type": "execute_result"
    }
   ],
   "source": [
    "raked_df.sum(axis=1) / raked_df.sum(axis=1).sum()"
   ]
  },
  {
   "cell_type": "code",
   "execution_count": null,
   "id": "a58a4e68-c996-45f5-beec-52375540840d",
   "metadata": {},
   "outputs": [],
   "source": []
  }
 ],
 "metadata": {
  "kernelspec": {
   "display_name": "Python 3 (ipykernel)",
   "language": "python",
   "name": "python3"
  },
  "language_info": {
   "codemirror_mode": {
    "name": "ipython",
    "version": 3
   },
   "file_extension": ".py",
   "mimetype": "text/x-python",
   "name": "python",
   "nbconvert_exporter": "python",
   "pygments_lexer": "ipython3",
   "version": "3.12.7"
  }
 },
 "nbformat": 4,
 "nbformat_minor": 5
}
