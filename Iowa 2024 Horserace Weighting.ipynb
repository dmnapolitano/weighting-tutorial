{
 "cells": [
  {
   "cell_type": "code",
   "execution_count": 93,
   "id": "9563da16-04eb-48aa-afcf-f341cf604580",
   "metadata": {},
   "outputs": [],
   "source": [
    "import pandas\n",
    "import matplotlib.pyplot as plt\n",
    "import seaborn as sns\n",
    "import numpy as np\n",
    "from tqdm import tqdm\n",
    "\n",
    "%matplotlib inline\n",
    "%config InlineBackend.figure_format = \"retina\"\n",
    "\n",
    "sns.set(rc={\"figure.figsize\" : (25, 15)})\n",
    "sns.set(font_scale=2)\n",
    "sns.set_style(\"ticks\")"
   ]
  },
  {
   "cell_type": "code",
   "execution_count": 2,
   "id": "78a26977-9a5a-4da3-8028-d7ed4319f725",
   "metadata": {},
   "outputs": [],
   "source": [
    "CROSSTAB_COLS = [\"CD1\", \"CD2\", \"CD3\", \"CD4\", \"VOTED_2020_TRUMP\", \"VOTED_2020_BIDEN\", \"VOTED_2020_DIDNT\",\n",
    "                 \"CHILD_LT_18\", \"EDU_NO_COLL\", \"EDU_COLL\"]\n",
    "CROSSTAB_COL_GROUPS = [[\"CD1\", \"CD2\", \"CD3\", \"CD4\"], [\"VOTED_2020_TRUMP\", \"VOTED_2020_BIDEN\", \"VOTED_2020_DIDNT\"],\n",
    "                       [\"CHILD_LT_18\"], [\"EDU_NO_COLL\", \"EDU_COLL\"]]\n",
    "CONST_COLS = [\"CANDIDATE\", \"LV\"]"
   ]
  },
  {
   "cell_type": "code",
   "execution_count": 105,
   "id": "1c825710-47f0-4df3-8309-6827fb53ede1",
   "metadata": {},
   "outputs": [
    {
     "data": {
      "text/plain": [
       "DEM      0.446568\n",
       "REP      0.539058\n",
       "OTHER    0.014374\n",
       "dtype: float64"
      ]
     },
     "execution_count": 105,
     "metadata": {},
     "output_type": "execute_result"
    }
   ],
   "source": [
    "# source: https://sos.iowa.gov/elections/pdf/VRStatsArchive/2024/CongOct24.pdf\n",
    "CD_REG_DF = pandas.DataFrame(\n",
    "    [[129541 + 48380, 127321 + 42982, 134188 + 44986, 85143 + 38710],\n",
    "     [149869 + 34385, 149972 + 30288, 151254 + 33128, 191956 + 45281],\n",
    "     [2394 + 584 + 1670 + 549, 2434 + 534 + 1509 + 528,\n",
    "      2831 + 535 + 1674 + 514, 2388 + 493 + 1754 + 572]],\n",
    "    index=[\"DEM\", \"REP\", \"OTHER\"], columns=[\"CD1\", \"CD2\", \"CD3\", \"CD4\"])\n",
    "\n",
    "CD_REG_DF.sum(axis=1) / CD_REG_DF.sum(axis=1).sum()"
   ]
  },
  {
   "cell_type": "code",
   "execution_count": 4,
   "id": "02ec8332-3417-4d52-ae40-408ff8250c26",
   "metadata": {},
   "outputs": [],
   "source": [
    "def f(weights):\n",
    "    # TODO: I don't think this is right\n",
    "    return 1 + ((np.std(weights) / np.mean(weights)) ** 2)"
   ]
  },
  {
   "cell_type": "markdown",
   "id": "fd655822-6621-468c-a3a4-175dc7e1984a",
   "metadata": {},
   "source": [
    "---\n",
    "\n",
    "## Load Crosstab"
   ]
  },
  {
   "cell_type": "code",
   "execution_count": 5,
   "id": "54741c73-c66d-4cb5-ab84-bfa0ec756b4f",
   "metadata": {},
   "outputs": [],
   "source": [
    "crosstab_df = pandas.read_csv(\"data/iowa_2024/iowa_2024_crosstab.csv\")"
   ]
  },
  {
   "cell_type": "code",
   "execution_count": 6,
   "id": "8191aa98-df5c-4a30-8585-78c7624bede3",
   "metadata": {},
   "outputs": [],
   "source": [
    "crosstab_df = crosstab_df[CONST_COLS + CROSSTAB_COLS].copy().fillna(0).set_index(\"CANDIDATE\")"
   ]
  },
  {
   "cell_type": "code",
   "execution_count": 7,
   "id": "b204b83e-58b0-4773-9be1-56a156f9d52d",
   "metadata": {},
   "outputs": [
    {
     "data": {
      "text/plain": [
       "849"
      ]
     },
     "execution_count": 7,
     "metadata": {},
     "output_type": "execute_result"
    }
   ],
   "source": [
    "total_wgt = crosstab_df[\"LV\"].loc[\"WGT\"]\n",
    "total_wgt"
   ]
  },
  {
   "cell_type": "code",
   "execution_count": 8,
   "id": "fa0f2153-380c-415a-9398-b408a6abd24a",
   "metadata": {},
   "outputs": [
    {
     "data": {
      "text/plain": [
       "78"
      ]
     },
     "execution_count": 8,
     "metadata": {},
     "output_type": "execute_result"
    }
   ],
   "source": [
    "total_wgt - (crosstab_df[\"LV\"].loc[\"HARRIS\"] + crosstab_df[\"LV\"].loc[\"TRUMP\"])"
   ]
  },
  {
   "cell_type": "code",
   "execution_count": 9,
   "id": "00eba82a-dbfd-4f14-9e38-d751d7e80823",
   "metadata": {},
   "outputs": [
    {
     "data": {
      "text/plain": [
       "LV                  78.0\n",
       "CD1                 20.0\n",
       "CD2                 21.0\n",
       "CD3                 18.0\n",
       "CD4                 19.0\n",
       "VOTED_2020_TRUMP    25.0\n",
       "VOTED_2020_BIDEN    10.0\n",
       "VOTED_2020_DIDNT    10.0\n",
       "CHILD_LT_18         21.0\n",
       "EDU_NO_COLL         51.0\n",
       "EDU_COLL            24.0\n",
       "Name: OTHER, dtype: float64"
      ]
     },
     "execution_count": 9,
     "metadata": {},
     "output_type": "execute_result"
    }
   ],
   "source": [
    "other_df = crosstab_df[~crosstab_df.index.isin([\"HARRIS\", \"TRUMP\", \"Total Unweighted Respondents\", \"WGT\"])].copy()\n",
    "other = other_df.sum(axis=0)\n",
    "other.name = \"OTHER\"\n",
    "other[\"LV\"] = other[\"LV\"] + 2\n",
    "other"
   ]
  },
  {
   "cell_type": "code",
   "execution_count": 10,
   "id": "c3a06ba2-ae87-4b67-894e-c901e214da5a",
   "metadata": {},
   "outputs": [],
   "source": [
    "crosstab_df = pandas.concat(\n",
    "    [crosstab_df[crosstab_df.index.isin([\"HARRIS\", \"TRUMP\"])], pandas.DataFrame([other])]).reset_index(names=[\"CANDIDATE\"])"
   ]
  },
  {
   "cell_type": "code",
   "execution_count": 11,
   "id": "2f1596e2-cbbc-45e9-a54d-920d17f8ccf9",
   "metadata": {},
   "outputs": [],
   "source": [
    "temp = None\n",
    "\n",
    "for group_cols in CROSSTAB_COL_GROUPS:\n",
    "    df = crosstab_df[CONST_COLS + group_cols].copy()\n",
    "    if group_cols[0] != \"CD1\":\n",
    "        unk_col = group_cols[0].split(\"_\")[0] + \"_\" + \"UNK\"\n",
    "        df[unk_col] = df[\"LV\"] - df[group_cols].sum(axis=1)\n",
    "    if temp is None:\n",
    "        temp = df.copy()\n",
    "    else:\n",
    "        temp = temp.merge(df, on=CONST_COLS, how=\"left\")\n",
    "\n",
    "crosstab_df = temp.copy()"
   ]
  },
  {
   "cell_type": "code",
   "execution_count": 12,
   "id": "a50abeae-1ac8-4607-a69d-1d2e8e043263",
   "metadata": {},
   "outputs": [
    {
     "data": {
      "text/html": [
       "<div>\n",
       "<style scoped>\n",
       "    .dataframe tbody tr th:only-of-type {\n",
       "        vertical-align: middle;\n",
       "    }\n",
       "\n",
       "    .dataframe tbody tr th {\n",
       "        vertical-align: top;\n",
       "    }\n",
       "\n",
       "    .dataframe thead th {\n",
       "        text-align: right;\n",
       "    }\n",
       "</style>\n",
       "<table border=\"1\" class=\"dataframe\">\n",
       "  <thead>\n",
       "    <tr style=\"text-align: right;\">\n",
       "      <th></th>\n",
       "      <th>CANDIDATE</th>\n",
       "      <th>LV</th>\n",
       "      <th>CD1</th>\n",
       "      <th>CD2</th>\n",
       "      <th>CD3</th>\n",
       "      <th>CD4</th>\n",
       "      <th>VOTED_2020_TRUMP</th>\n",
       "      <th>VOTED_2020_BIDEN</th>\n",
       "      <th>VOTED_2020_DIDNT</th>\n",
       "      <th>VOTED_UNK</th>\n",
       "      <th>CHILD_LT_18</th>\n",
       "      <th>CHILD_UNK</th>\n",
       "      <th>EDU_NO_COLL</th>\n",
       "      <th>EDU_COLL</th>\n",
       "      <th>EDU_UNK</th>\n",
       "    </tr>\n",
       "  </thead>\n",
       "  <tbody>\n",
       "    <tr>\n",
       "      <th>0</th>\n",
       "      <td>HARRIS</td>\n",
       "      <td>399.0</td>\n",
       "      <td>113.0</td>\n",
       "      <td>99.0</td>\n",
       "      <td>100.0</td>\n",
       "      <td>87.0</td>\n",
       "      <td>12.0</td>\n",
       "      <td>322.0</td>\n",
       "      <td>48.0</td>\n",
       "      <td>17.0</td>\n",
       "      <td>98.0</td>\n",
       "      <td>301.0</td>\n",
       "      <td>205.0</td>\n",
       "      <td>191.0</td>\n",
       "      <td>3.0</td>\n",
       "    </tr>\n",
       "    <tr>\n",
       "      <th>1</th>\n",
       "      <td>TRUMP</td>\n",
       "      <td>372.0</td>\n",
       "      <td>78.0</td>\n",
       "      <td>97.0</td>\n",
       "      <td>91.0</td>\n",
       "      <td>107.0</td>\n",
       "      <td>299.0</td>\n",
       "      <td>13.0</td>\n",
       "      <td>45.0</td>\n",
       "      <td>15.0</td>\n",
       "      <td>114.0</td>\n",
       "      <td>258.0</td>\n",
       "      <td>270.0</td>\n",
       "      <td>97.0</td>\n",
       "      <td>5.0</td>\n",
       "    </tr>\n",
       "    <tr>\n",
       "      <th>2</th>\n",
       "      <td>OTHER</td>\n",
       "      <td>78.0</td>\n",
       "      <td>20.0</td>\n",
       "      <td>21.0</td>\n",
       "      <td>18.0</td>\n",
       "      <td>19.0</td>\n",
       "      <td>25.0</td>\n",
       "      <td>10.0</td>\n",
       "      <td>10.0</td>\n",
       "      <td>33.0</td>\n",
       "      <td>21.0</td>\n",
       "      <td>57.0</td>\n",
       "      <td>51.0</td>\n",
       "      <td>24.0</td>\n",
       "      <td>3.0</td>\n",
       "    </tr>\n",
       "  </tbody>\n",
       "</table>\n",
       "</div>"
      ],
      "text/plain": [
       "  CANDIDATE     LV    CD1   CD2    CD3    CD4  VOTED_2020_TRUMP  \\\n",
       "0    HARRIS  399.0  113.0  99.0  100.0   87.0              12.0   \n",
       "1     TRUMP  372.0   78.0  97.0   91.0  107.0             299.0   \n",
       "2     OTHER   78.0   20.0  21.0   18.0   19.0              25.0   \n",
       "\n",
       "   VOTED_2020_BIDEN  VOTED_2020_DIDNT  VOTED_UNK  CHILD_LT_18  CHILD_UNK  \\\n",
       "0             322.0              48.0       17.0         98.0      301.0   \n",
       "1              13.0              45.0       15.0        114.0      258.0   \n",
       "2              10.0              10.0       33.0         21.0       57.0   \n",
       "\n",
       "   EDU_NO_COLL  EDU_COLL  EDU_UNK  \n",
       "0        205.0     191.0      3.0  \n",
       "1        270.0      97.0      5.0  \n",
       "2         51.0      24.0      3.0  "
      ]
     },
     "execution_count": 12,
     "metadata": {},
     "output_type": "execute_result"
    }
   ],
   "source": [
    "crosstab_df"
   ]
  },
  {
   "cell_type": "code",
   "execution_count": 13,
   "id": "409d0975-29ba-418a-9258-33c67e27826f",
   "metadata": {},
   "outputs": [
    {
     "data": {
      "text/plain": [
       "CANDIDATE\n",
       "HARRIS    0.469965\n",
       "TRUMP     0.438163\n",
       "OTHER     0.091873\n",
       "Name: LV, dtype: float64"
      ]
     },
     "execution_count": 13,
     "metadata": {},
     "output_type": "execute_result"
    }
   ],
   "source": [
    "crosstab_df.set_index(\"CANDIDATE\")[\"LV\"] / crosstab_df[\"LV\"].sum()"
   ]
  },
  {
   "cell_type": "code",
   "execution_count": 14,
   "id": "5477b1a7-cfd7-4a7e-a04b-b9be6d1e2791",
   "metadata": {},
   "outputs": [
    {
     "data": {
      "text/plain": [
       "0.031802"
      ]
     },
     "execution_count": 14,
     "metadata": {},
     "output_type": "execute_result"
    }
   ],
   "source": [
    "0.469965 - 0.438163"
   ]
  },
  {
   "cell_type": "markdown",
   "id": "ced40d3e-12fd-4613-937d-52652e73a81c",
   "metadata": {},
   "source": [
    "---\n",
    "\n",
    "## Basic Cell-by-Cell Weighting"
   ]
  },
  {
   "cell_type": "markdown",
   "id": "e3a26fad-a0ae-45a8-baf0-18fc348414e4",
   "metadata": {},
   "source": [
    "### Data Prep"
   ]
  },
  {
   "cell_type": "code",
   "execution_count": 219,
   "id": "f806299d-2ba4-4ccf-a644-4d7ad8b7b4bc",
   "metadata": {},
   "outputs": [
    {
     "data": {
      "text/html": [
       "<div>\n",
       "<style scoped>\n",
       "    .dataframe tbody tr th:only-of-type {\n",
       "        vertical-align: middle;\n",
       "    }\n",
       "\n",
       "    .dataframe tbody tr th {\n",
       "        vertical-align: top;\n",
       "    }\n",
       "\n",
       "    .dataframe thead th {\n",
       "        text-align: right;\n",
       "    }\n",
       "</style>\n",
       "<table border=\"1\" class=\"dataframe\">\n",
       "  <thead>\n",
       "    <tr style=\"text-align: right;\">\n",
       "      <th></th>\n",
       "      <th>CD1</th>\n",
       "      <th>CD2</th>\n",
       "      <th>CD3</th>\n",
       "      <th>CD4</th>\n",
       "    </tr>\n",
       "    <tr>\n",
       "      <th>CANDIDATE</th>\n",
       "      <th></th>\n",
       "      <th></th>\n",
       "      <th></th>\n",
       "      <th></th>\n",
       "    </tr>\n",
       "  </thead>\n",
       "  <tbody>\n",
       "    <tr>\n",
       "      <th>HARRIS</th>\n",
       "      <td>113.0</td>\n",
       "      <td>99.0</td>\n",
       "      <td>100.0</td>\n",
       "      <td>87.0</td>\n",
       "    </tr>\n",
       "    <tr>\n",
       "      <th>TRUMP</th>\n",
       "      <td>78.0</td>\n",
       "      <td>97.0</td>\n",
       "      <td>91.0</td>\n",
       "      <td>107.0</td>\n",
       "    </tr>\n",
       "    <tr>\n",
       "      <th>OTHER</th>\n",
       "      <td>20.0</td>\n",
       "      <td>21.0</td>\n",
       "      <td>18.0</td>\n",
       "      <td>19.0</td>\n",
       "    </tr>\n",
       "  </tbody>\n",
       "</table>\n",
       "</div>"
      ],
      "text/plain": [
       "             CD1   CD2    CD3    CD4\n",
       "CANDIDATE                           \n",
       "HARRIS     113.0  99.0  100.0   87.0\n",
       "TRUMP       78.0  97.0   91.0  107.0\n",
       "OTHER       20.0  21.0   18.0   19.0"
      ]
     },
     "execution_count": 219,
     "metadata": {},
     "output_type": "execute_result"
    }
   ],
   "source": [
    "cd_cols = [\"CD1\", \"CD2\", \"CD3\", \"CD4\"]\n",
    "ct_df = crosstab_df.set_index(\"CANDIDATE\")[cd_cols].copy()\n",
    "ct_df"
   ]
  },
  {
   "cell_type": "code",
   "execution_count": 220,
   "id": "a242920a-50c5-4f05-bcc2-798a2b5c3bc1",
   "metadata": {},
   "outputs": [
    {
     "data": {
      "text/html": [
       "<div>\n",
       "<style scoped>\n",
       "    .dataframe tbody tr th:only-of-type {\n",
       "        vertical-align: middle;\n",
       "    }\n",
       "\n",
       "    .dataframe tbody tr th {\n",
       "        vertical-align: top;\n",
       "    }\n",
       "\n",
       "    .dataframe thead th {\n",
       "        text-align: right;\n",
       "    }\n",
       "</style>\n",
       "<table border=\"1\" class=\"dataframe\">\n",
       "  <thead>\n",
       "    <tr style=\"text-align: right;\">\n",
       "      <th></th>\n",
       "      <th>CD1</th>\n",
       "      <th>CD2</th>\n",
       "      <th>CD3</th>\n",
       "      <th>CD4</th>\n",
       "    </tr>\n",
       "  </thead>\n",
       "  <tbody>\n",
       "    <tr>\n",
       "      <th>HARRIS</th>\n",
       "      <td>177921</td>\n",
       "      <td>170303</td>\n",
       "      <td>179174</td>\n",
       "      <td>123853</td>\n",
       "    </tr>\n",
       "    <tr>\n",
       "      <th>TRUMP</th>\n",
       "      <td>184254</td>\n",
       "      <td>180260</td>\n",
       "      <td>184382</td>\n",
       "      <td>237237</td>\n",
       "    </tr>\n",
       "    <tr>\n",
       "      <th>OTHER</th>\n",
       "      <td>5197</td>\n",
       "      <td>5005</td>\n",
       "      <td>5554</td>\n",
       "      <td>5207</td>\n",
       "    </tr>\n",
       "  </tbody>\n",
       "</table>\n",
       "</div>"
      ],
      "text/plain": [
       "           CD1     CD2     CD3     CD4\n",
       "HARRIS  177921  170303  179174  123853\n",
       "TRUMP   184254  180260  184382  237237\n",
       "OTHER     5197    5005    5554    5207"
      ]
     },
     "execution_count": 220,
     "metadata": {},
     "output_type": "execute_result"
    }
   ],
   "source": [
    "pop_df = CD_REG_DF.copy()\n",
    "pop_df.index = [\"HARRIS\", \"TRUMP\", \"OTHER\"]\n",
    "pop_df"
   ]
  },
  {
   "cell_type": "markdown",
   "id": "4fabb5e6-79e9-422e-b74d-4fcd79f9e032",
   "metadata": {},
   "source": [
    "### Cell Weighting"
   ]
  },
  {
   "cell_type": "code",
   "execution_count": 221,
   "id": "0e10c636-6e7e-418c-8e33-612a37178610",
   "metadata": {},
   "outputs": [],
   "source": [
    "temp = ct_df.div(ct_df.sum(axis=1), axis=0).join(pop_df.div(pop_df.sum(axis=1), axis=0), rsuffix=\"_reg\")"
   ]
  },
  {
   "cell_type": "code",
   "execution_count": 222,
   "id": "b9c4d7a6-aefe-4bc3-acd0-6b938dc716ca",
   "metadata": {},
   "outputs": [],
   "source": [
    "temp[\"CD1_weight\"] = temp[\"CD1_reg\"] / temp[\"CD1\"]\n",
    "temp[\"CD2_weight\"] = temp[\"CD2_reg\"] / temp[\"CD2\"]\n",
    "temp[\"CD3_weight\"] = temp[\"CD3_reg\"] / temp[\"CD3\"]\n",
    "temp[\"CD4_weight\"] = temp[\"CD4_reg\"] / temp[\"CD4\"]"
   ]
  },
  {
   "cell_type": "code",
   "execution_count": 223,
   "id": "c4014898-6716-40de-85af-f9584b33e7d2",
   "metadata": {},
   "outputs": [
    {
     "data": {
      "text/plain": [
       "1.0082143353106263"
      ]
     },
     "execution_count": 223,
     "metadata": {},
     "output_type": "execute_result"
    }
   ],
   "source": [
    "f(temp[[\"CD1_weight\", \"CD2_weight\", \"CD3_weight\", \"CD4_weight\"]].values)"
   ]
  },
  {
   "cell_type": "code",
   "execution_count": 224,
   "id": "44cdbb1b-b0ff-477a-9697-8b50d2adeb7e",
   "metadata": {},
   "outputs": [
    {
     "data": {
      "text/html": [
       "<div>\n",
       "<style scoped>\n",
       "    .dataframe tbody tr th:only-of-type {\n",
       "        vertical-align: middle;\n",
       "    }\n",
       "\n",
       "    .dataframe tbody tr th {\n",
       "        vertical-align: top;\n",
       "    }\n",
       "\n",
       "    .dataframe thead th {\n",
       "        text-align: right;\n",
       "    }\n",
       "</style>\n",
       "<table border=\"1\" class=\"dataframe\">\n",
       "  <thead>\n",
       "    <tr style=\"text-align: right;\">\n",
       "      <th></th>\n",
       "      <th>CD1</th>\n",
       "      <th>CD2</th>\n",
       "      <th>CD3</th>\n",
       "      <th>CD4</th>\n",
       "      <th>CD1_reg</th>\n",
       "      <th>CD2_reg</th>\n",
       "      <th>CD3_reg</th>\n",
       "      <th>CD4_reg</th>\n",
       "      <th>CD1_weight</th>\n",
       "      <th>CD2_weight</th>\n",
       "      <th>CD3_weight</th>\n",
       "      <th>CD4_weight</th>\n",
       "    </tr>\n",
       "    <tr>\n",
       "      <th>CANDIDATE</th>\n",
       "      <th></th>\n",
       "      <th></th>\n",
       "      <th></th>\n",
       "      <th></th>\n",
       "      <th></th>\n",
       "      <th></th>\n",
       "      <th></th>\n",
       "      <th></th>\n",
       "      <th></th>\n",
       "      <th></th>\n",
       "      <th></th>\n",
       "      <th></th>\n",
       "    </tr>\n",
       "  </thead>\n",
       "  <tbody>\n",
       "    <tr>\n",
       "      <th>HARRIS</th>\n",
       "      <td>0.283208</td>\n",
       "      <td>0.248120</td>\n",
       "      <td>0.250627</td>\n",
       "      <td>0.218045</td>\n",
       "      <td>0.273199</td>\n",
       "      <td>0.261501</td>\n",
       "      <td>0.275123</td>\n",
       "      <td>0.190177</td>\n",
       "      <td>0.964658</td>\n",
       "      <td>1.053930</td>\n",
       "      <td>1.097740</td>\n",
       "      <td>0.872191</td>\n",
       "    </tr>\n",
       "    <tr>\n",
       "      <th>TRUMP</th>\n",
       "      <td>0.209115</td>\n",
       "      <td>0.260054</td>\n",
       "      <td>0.243968</td>\n",
       "      <td>0.286863</td>\n",
       "      <td>0.234380</td>\n",
       "      <td>0.229300</td>\n",
       "      <td>0.234543</td>\n",
       "      <td>0.301777</td>\n",
       "      <td>1.120818</td>\n",
       "      <td>0.881740</td>\n",
       "      <td>0.961369</td>\n",
       "      <td>1.051990</td>\n",
       "    </tr>\n",
       "    <tr>\n",
       "      <th>OTHER</th>\n",
       "      <td>0.256410</td>\n",
       "      <td>0.269231</td>\n",
       "      <td>0.230769</td>\n",
       "      <td>0.243590</td>\n",
       "      <td>0.247913</td>\n",
       "      <td>0.238754</td>\n",
       "      <td>0.264943</td>\n",
       "      <td>0.248390</td>\n",
       "      <td>0.966861</td>\n",
       "      <td>0.886801</td>\n",
       "      <td>1.148086</td>\n",
       "      <td>1.019706</td>\n",
       "    </tr>\n",
       "  </tbody>\n",
       "</table>\n",
       "</div>"
      ],
      "text/plain": [
       "                CD1       CD2       CD3       CD4   CD1_reg   CD2_reg  \\\n",
       "CANDIDATE                                                               \n",
       "HARRIS     0.283208  0.248120  0.250627  0.218045  0.273199  0.261501   \n",
       "TRUMP      0.209115  0.260054  0.243968  0.286863  0.234380  0.229300   \n",
       "OTHER      0.256410  0.269231  0.230769  0.243590  0.247913  0.238754   \n",
       "\n",
       "            CD3_reg   CD4_reg  CD1_weight  CD2_weight  CD3_weight  CD4_weight  \n",
       "CANDIDATE                                                                      \n",
       "HARRIS     0.275123  0.190177    0.964658    1.053930    1.097740    0.872191  \n",
       "TRUMP      0.234543  0.301777    1.120818    0.881740    0.961369    1.051990  \n",
       "OTHER      0.264943  0.248390    0.966861    0.886801    1.148086    1.019706  "
      ]
     },
     "execution_count": 224,
     "metadata": {},
     "output_type": "execute_result"
    }
   ],
   "source": [
    "temp"
   ]
  },
  {
   "cell_type": "code",
   "execution_count": 225,
   "id": "097c6b28-88ca-4335-ba1d-323e8f587ad2",
   "metadata": {},
   "outputs": [
    {
     "data": {
      "text/html": [
       "<div>\n",
       "<style scoped>\n",
       "    .dataframe tbody tr th:only-of-type {\n",
       "        vertical-align: middle;\n",
       "    }\n",
       "\n",
       "    .dataframe tbody tr th {\n",
       "        vertical-align: top;\n",
       "    }\n",
       "\n",
       "    .dataframe thead th {\n",
       "        text-align: right;\n",
       "    }\n",
       "</style>\n",
       "<table border=\"1\" class=\"dataframe\">\n",
       "  <thead>\n",
       "    <tr style=\"text-align: right;\">\n",
       "      <th></th>\n",
       "      <th>CD1</th>\n",
       "      <th>CD2</th>\n",
       "      <th>CD3</th>\n",
       "      <th>CD4</th>\n",
       "    </tr>\n",
       "    <tr>\n",
       "      <th>CANDIDATE</th>\n",
       "      <th></th>\n",
       "      <th></th>\n",
       "      <th></th>\n",
       "      <th></th>\n",
       "    </tr>\n",
       "  </thead>\n",
       "  <tbody>\n",
       "    <tr>\n",
       "      <th>HARRIS</th>\n",
       "      <td>109.006326</td>\n",
       "      <td>104.339029</td>\n",
       "      <td>109.773998</td>\n",
       "      <td>75.880647</td>\n",
       "    </tr>\n",
       "    <tr>\n",
       "      <th>TRUMP</th>\n",
       "      <td>87.423810</td>\n",
       "      <td>85.528759</td>\n",
       "      <td>87.484543</td>\n",
       "      <td>112.562888</td>\n",
       "    </tr>\n",
       "    <tr>\n",
       "      <th>OTHER</th>\n",
       "      <td>19.337213</td>\n",
       "      <td>18.622812</td>\n",
       "      <td>20.665554</td>\n",
       "      <td>19.374422</td>\n",
       "    </tr>\n",
       "  </tbody>\n",
       "</table>\n",
       "</div>"
      ],
      "text/plain": [
       "                  CD1         CD2         CD3         CD4\n",
       "CANDIDATE                                                \n",
       "HARRIS     109.006326  104.339029  109.773998   75.880647\n",
       "TRUMP       87.423810   85.528759   87.484543  112.562888\n",
       "OTHER       19.337213   18.622812   20.665554   19.374422"
      ]
     },
     "execution_count": 225,
     "metadata": {},
     "output_type": "execute_result"
    }
   ],
   "source": [
    "temp2 = (ct_df *\n",
    "         temp[[\"CD1_weight\", \"CD2_weight\", \"CD3_weight\", \"CD4_weight\"]].rename(\n",
    "             columns={c : c.replace(\"_weight\", \"\") for c in temp.columns if c.endswith(\"_weight\")}))\n",
    "temp2"
   ]
  },
  {
   "cell_type": "code",
   "execution_count": 226,
   "id": "0a2334fe-ec5a-4742-9191-c6a3c2f4e2cb",
   "metadata": {},
   "outputs": [
    {
     "data": {
      "text/plain": [
       "CANDIDATE\n",
       "HARRIS    0.469412\n",
       "TRUMP     0.438824\n",
       "OTHER     0.091765\n",
       "dtype: float64"
      ]
     },
     "execution_count": 226,
     "metadata": {},
     "output_type": "execute_result"
    }
   ],
   "source": [
    "temp2.sum(axis=1) / temp2.sum(axis=1).sum()"
   ]
  },
  {
   "cell_type": "markdown",
   "id": "d5e4e0aa-2367-4233-b39e-5eb82e3c806f",
   "metadata": {},
   "source": [
    "---\n",
    "\n",
    "## Basic Raking"
   ]
  },
  {
   "cell_type": "code",
   "execution_count": 227,
   "id": "c2e554d1-daa0-4eee-b4b9-2531d61a2378",
   "metadata": {},
   "outputs": [],
   "source": [
    "expected_col = pop_df.sum(axis=1)\n",
    "expected_row = pop_df[cd_cols].sum(axis=0)"
   ]
  },
  {
   "cell_type": "code",
   "execution_count": 228,
   "id": "f1b981b5-9e10-4925-b283-b297913fad44",
   "metadata": {},
   "outputs": [
    {
     "data": {
      "text/plain": [
       "CD1    367372\n",
       "CD2    355568\n",
       "CD3    369110\n",
       "CD4    366297\n",
       "dtype: int64"
      ]
     },
     "execution_count": 228,
     "metadata": {},
     "output_type": "execute_result"
    }
   ],
   "source": [
    "expected_row"
   ]
  },
  {
   "cell_type": "code",
   "execution_count": 229,
   "id": "447ec58e-193b-4eb1-8847-d37882bb1fe2",
   "metadata": {},
   "outputs": [
    {
     "data": {
      "text/plain": [
       "HARRIS    651251\n",
       "TRUMP     786133\n",
       "OTHER      20963\n",
       "dtype: int64"
      ]
     },
     "execution_count": 229,
     "metadata": {},
     "output_type": "execute_result"
    }
   ],
   "source": [
    "expected_col"
   ]
  },
  {
   "cell_type": "code",
   "execution_count": 230,
   "id": "8a5048b9-d4d4-4659-b81f-d6a2e098eb43",
   "metadata": {},
   "outputs": [],
   "source": [
    "temp = ct_df.copy()"
   ]
  },
  {
   "cell_type": "code",
   "execution_count": 231,
   "id": "9fc393ce-eba4-48fb-914e-cf5615bf2646",
   "metadata": {},
   "outputs": [
    {
     "name": "stderr",
     "output_type": "stream",
     "text": [
      "9it [00:00, 410.44it/s]\n"
     ]
    }
   ],
   "source": [
    "with tqdm() as pbar:\n",
    "    while True:\n",
    "        rake_rows = pop_df.sum(axis=1) / temp.sum(axis=1)\n",
    "        temp = temp.mul(rake_rows, axis=0)\n",
    "        rake_cols = pop_df.sum(axis=0) / temp.sum(axis=0)\n",
    "        temp = temp.mul(rake_cols, axis=1)\n",
    "        if temp.sum(axis=1).astype(int).equals(expected_col) and temp.sum(axis=0).astype(int).equals(expected_row):\n",
    "            break\n",
    "        else:\n",
    "            pbar.update()"
   ]
  },
  {
   "cell_type": "code",
   "execution_count": 232,
   "id": "e3f2fa87-0ab4-426d-89d8-d04f68832535",
   "metadata": {},
   "outputs": [
    {
     "data": {
      "text/html": [
       "<div>\n",
       "<style scoped>\n",
       "    .dataframe tbody tr th:only-of-type {\n",
       "        vertical-align: middle;\n",
       "    }\n",
       "\n",
       "    .dataframe tbody tr th {\n",
       "        vertical-align: top;\n",
       "    }\n",
       "\n",
       "    .dataframe thead th {\n",
       "        text-align: right;\n",
       "    }\n",
       "</style>\n",
       "<table border=\"1\" class=\"dataframe\">\n",
       "  <thead>\n",
       "    <tr style=\"text-align: right;\">\n",
       "      <th></th>\n",
       "      <th>CD1</th>\n",
       "      <th>CD2</th>\n",
       "      <th>CD3</th>\n",
       "      <th>CD4</th>\n",
       "    </tr>\n",
       "    <tr>\n",
       "      <th>CANDIDATE</th>\n",
       "      <th></th>\n",
       "      <th></th>\n",
       "      <th></th>\n",
       "      <th></th>\n",
       "    </tr>\n",
       "  </thead>\n",
       "  <tbody>\n",
       "    <tr>\n",
       "      <th>HARRIS</th>\n",
       "      <td>190872.775196</td>\n",
       "      <td>154185.724387</td>\n",
       "      <td>166999.202193</td>\n",
       "      <td>139193.298225</td>\n",
       "    </tr>\n",
       "    <tr>\n",
       "      <th>TRUMP</th>\n",
       "      <td>170920.618860</td>\n",
       "      <td>195981.471686</td>\n",
       "      <td>197146.966125</td>\n",
       "      <td>222083.943329</td>\n",
       "    </tr>\n",
       "    <tr>\n",
       "      <th>OTHER</th>\n",
       "      <td>5578.605945</td>\n",
       "      <td>5400.803927</td>\n",
       "      <td>4963.831682</td>\n",
       "      <td>5019.758446</td>\n",
       "    </tr>\n",
       "  </tbody>\n",
       "</table>\n",
       "</div>"
      ],
      "text/plain": [
       "                     CD1            CD2            CD3            CD4\n",
       "CANDIDATE                                                            \n",
       "HARRIS     190872.775196  154185.724387  166999.202193  139193.298225\n",
       "TRUMP      170920.618860  195981.471686  197146.966125  222083.943329\n",
       "OTHER        5578.605945    5400.803927    4963.831682    5019.758446"
      ]
     },
     "execution_count": 232,
     "metadata": {},
     "output_type": "execute_result"
    }
   ],
   "source": [
    "temp"
   ]
  },
  {
   "cell_type": "code",
   "execution_count": 233,
   "id": "e9a2293c-768c-4384-ae24-00da683db67c",
   "metadata": {},
   "outputs": [
    {
     "data": {
      "text/plain": [
       "1.4861372796912073"
      ]
     },
     "execution_count": 233,
     "metadata": {},
     "output_type": "execute_result"
    }
   ],
   "source": [
    "f(temp.values)"
   ]
  },
  {
   "cell_type": "code",
   "execution_count": 238,
   "id": "258909c1-483c-404d-bdd7-0851027b6c88",
   "metadata": {},
   "outputs": [
    {
     "data": {
      "text/html": [
       "<div>\n",
       "<style scoped>\n",
       "    .dataframe tbody tr th:only-of-type {\n",
       "        vertical-align: middle;\n",
       "    }\n",
       "\n",
       "    .dataframe tbody tr th {\n",
       "        vertical-align: top;\n",
       "    }\n",
       "\n",
       "    .dataframe thead th {\n",
       "        text-align: right;\n",
       "    }\n",
       "</style>\n",
       "<table border=\"1\" class=\"dataframe\">\n",
       "  <thead>\n",
       "    <tr style=\"text-align: right;\">\n",
       "      <th></th>\n",
       "      <th>CD1</th>\n",
       "      <th>CD2</th>\n",
       "      <th>CD3</th>\n",
       "      <th>CD4</th>\n",
       "    </tr>\n",
       "    <tr>\n",
       "      <th>CANDIDATE</th>\n",
       "      <th></th>\n",
       "      <th></th>\n",
       "      <th></th>\n",
       "      <th></th>\n",
       "    </tr>\n",
       "  </thead>\n",
       "  <tbody>\n",
       "    <tr>\n",
       "      <th>HARRIS</th>\n",
       "      <td>2.156862e+07</td>\n",
       "      <td>1.526439e+07</td>\n",
       "      <td>1.669992e+07</td>\n",
       "      <td>1.210982e+07</td>\n",
       "    </tr>\n",
       "    <tr>\n",
       "      <th>TRUMP</th>\n",
       "      <td>1.333181e+07</td>\n",
       "      <td>1.901020e+07</td>\n",
       "      <td>1.794037e+07</td>\n",
       "      <td>2.376298e+07</td>\n",
       "    </tr>\n",
       "    <tr>\n",
       "      <th>OTHER</th>\n",
       "      <td>1.115721e+05</td>\n",
       "      <td>1.134169e+05</td>\n",
       "      <td>8.934897e+04</td>\n",
       "      <td>9.537541e+04</td>\n",
       "    </tr>\n",
       "  </tbody>\n",
       "</table>\n",
       "</div>"
      ],
      "text/plain": [
       "                    CD1           CD2           CD3           CD4\n",
       "CANDIDATE                                                        \n",
       "HARRIS     2.156862e+07  1.526439e+07  1.669992e+07  1.210982e+07\n",
       "TRUMP      1.333181e+07  1.901020e+07  1.794037e+07  2.376298e+07\n",
       "OTHER      1.115721e+05  1.134169e+05  8.934897e+04  9.537541e+04"
      ]
     },
     "execution_count": 238,
     "metadata": {},
     "output_type": "execute_result"
    }
   ],
   "source": [
    "temp2 = ct_df * temp\n",
    "temp2"
   ]
  },
  {
   "cell_type": "code",
   "execution_count": 239,
   "id": "d25151c5-6eda-405f-b117-f236668bc56f",
   "metadata": {},
   "outputs": [
    {
     "data": {
      "text/plain": [
       "CANDIDATE\n",
       "HARRIS    0.468549\n",
       "TRUMP     0.528526\n",
       "OTHER     0.002924\n",
       "dtype: float64"
      ]
     },
     "execution_count": 239,
     "metadata": {},
     "output_type": "execute_result"
    }
   ],
   "source": [
    "temp2.sum(axis=1) / temp2.sum(axis=1).sum()"
   ]
  },
  {
   "cell_type": "code",
   "execution_count": null,
   "id": "cf0dd913-dd20-451f-8938-58395fb45414",
   "metadata": {},
   "outputs": [],
   "source": []
  }
 ],
 "metadata": {
  "kernelspec": {
   "display_name": "Python 3 (ipykernel)",
   "language": "python",
   "name": "python3"
  },
  "language_info": {
   "codemirror_mode": {
    "name": "ipython",
    "version": 3
   },
   "file_extension": ".py",
   "mimetype": "text/x-python",
   "name": "python",
   "nbconvert_exporter": "python",
   "pygments_lexer": "ipython3",
   "version": "3.12.7"
  }
 },
 "nbformat": 4,
 "nbformat_minor": 5
}
