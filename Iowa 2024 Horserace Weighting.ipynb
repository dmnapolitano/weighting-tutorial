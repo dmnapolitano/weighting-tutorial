{
 "cells": [
  {
   "cell_type": "code",
   "execution_count": 1,
   "id": "9563da16-04eb-48aa-afcf-f341cf604580",
   "metadata": {},
   "outputs": [],
   "source": [
    "import pandas\n",
    "import matplotlib.pyplot as plt\n",
    "import seaborn as sns\n",
    "import numpy as np\n",
    "\n",
    "%matplotlib inline\n",
    "%config InlineBackend.figure_format = \"retina\"\n",
    "\n",
    "sns.set(rc={\"figure.figsize\" : (25, 15)})\n",
    "sns.set(font_scale=2)\n",
    "sns.set_style(\"ticks\")"
   ]
  },
  {
   "cell_type": "code",
   "execution_count": 2,
   "id": "78a26977-9a5a-4da3-8028-d7ed4319f725",
   "metadata": {},
   "outputs": [],
   "source": [
    "CROSSTAB_COLS = [\"CD1\", \"CD2\", \"CD3\", \"CD4\", \"VOTED_2020_TRUMP\", \"VOTED_2020_BIDEN\", \"VOTED_2020_DIDNT\",\n",
    "                 \"CHILD_LT_18\", \"EDU_NO_COLL\", \"EDU_COLL\"]\n",
    "CROSSTAB_COL_GROUPS = [[\"CD1\", \"CD2\", \"CD3\", \"CD4\"], [\"VOTED_2020_TRUMP\", \"VOTED_2020_BIDEN\", \"VOTED_2020_DIDNT\"],\n",
    "                       [\"CHILD_LT_18\"], [\"EDU_NO_COLL\", \"EDU_COLL\"]]\n",
    "CONST_COLS = [\"CANDIDATE\", \"LV\"]"
   ]
  },
  {
   "cell_type": "code",
   "execution_count": 108,
   "id": "1c825710-47f0-4df3-8309-6827fb53ede1",
   "metadata": {},
   "outputs": [
    {
     "data": {
      "text/html": [
       "<div>\n",
       "<style scoped>\n",
       "    .dataframe tbody tr th:only-of-type {\n",
       "        vertical-align: middle;\n",
       "    }\n",
       "\n",
       "    .dataframe tbody tr th {\n",
       "        vertical-align: top;\n",
       "    }\n",
       "\n",
       "    .dataframe thead th {\n",
       "        text-align: right;\n",
       "    }\n",
       "</style>\n",
       "<table border=\"1\" class=\"dataframe\">\n",
       "  <thead>\n",
       "    <tr style=\"text-align: right;\">\n",
       "      <th></th>\n",
       "      <th>CD1</th>\n",
       "      <th>CD2</th>\n",
       "      <th>CD3</th>\n",
       "      <th>CD4</th>\n",
       "    </tr>\n",
       "  </thead>\n",
       "  <tbody>\n",
       "    <tr>\n",
       "      <th>DEM</th>\n",
       "      <td>177921</td>\n",
       "      <td>170303</td>\n",
       "      <td>179174</td>\n",
       "      <td>123853</td>\n",
       "    </tr>\n",
       "    <tr>\n",
       "      <th>REP</th>\n",
       "      <td>184254</td>\n",
       "      <td>180260</td>\n",
       "      <td>184382</td>\n",
       "      <td>237237</td>\n",
       "    </tr>\n",
       "    <tr>\n",
       "      <th>OTHER</th>\n",
       "      <td>5197</td>\n",
       "      <td>5005</td>\n",
       "      <td>5554</td>\n",
       "      <td>5207</td>\n",
       "    </tr>\n",
       "  </tbody>\n",
       "</table>\n",
       "</div>"
      ],
      "text/plain": [
       "          CD1     CD2     CD3     CD4\n",
       "DEM    177921  170303  179174  123853\n",
       "REP    184254  180260  184382  237237\n",
       "OTHER    5197    5005    5554    5207"
      ]
     },
     "execution_count": 108,
     "metadata": {},
     "output_type": "execute_result"
    }
   ],
   "source": [
    "# source: https://sos.iowa.gov/elections/pdf/VRStatsArchive/2024/CongOct24.pdf\n",
    "CD_REG_DF = pandas.DataFrame(\n",
    "    [[129541 + 48380, 127321 + 42982, 134188 + 44986, 85143 + 38710],\n",
    "     [149869 + 34385, 149972 + 30288, 151254 + 33128, 191956 + 45281],\n",
    "     [2394 + 584 + 1670 + 549, 2434 + 534 + 1509 + 528,\n",
    "      2831 + 535 + 1674 + 514, 2388 + 493 + 1754 + 572]],\n",
    "    index=[\"DEM\", \"REP\", \"OTHER\"], columns=[\"CD1\", \"CD2\", \"CD3\", \"CD4\"])\n",
    "\n",
    "CD_REG_DF"
   ]
  },
  {
   "cell_type": "code",
   "execution_count": 12,
   "id": "02ec8332-3417-4d52-ae40-408ff8250c26",
   "metadata": {},
   "outputs": [],
   "source": [
    "def f(weights):\n",
    "    # TODO: I don't think this is right\n",
    "    return 1 + ((np.std(weights) / np.mean(weights)) ** 2)"
   ]
  },
  {
   "cell_type": "markdown",
   "id": "fd655822-6621-468c-a3a4-175dc7e1984a",
   "metadata": {},
   "source": [
    "---\n",
    "\n",
    "## Load Crosstab"
   ]
  },
  {
   "cell_type": "code",
   "execution_count": 13,
   "id": "54741c73-c66d-4cb5-ab84-bfa0ec756b4f",
   "metadata": {},
   "outputs": [],
   "source": [
    "crosstab_df = pandas.read_csv(\"data/iowa_2024/iowa_2024_crosstab.csv\")"
   ]
  },
  {
   "cell_type": "code",
   "execution_count": 14,
   "id": "8191aa98-df5c-4a30-8585-78c7624bede3",
   "metadata": {},
   "outputs": [],
   "source": [
    "crosstab_df = crosstab_df[CONST_COLS + CROSSTAB_COLS].copy().fillna(0).set_index(\"CANDIDATE\")"
   ]
  },
  {
   "cell_type": "code",
   "execution_count": 15,
   "id": "b204b83e-58b0-4773-9be1-56a156f9d52d",
   "metadata": {},
   "outputs": [
    {
     "data": {
      "text/plain": [
       "849"
      ]
     },
     "execution_count": 15,
     "metadata": {},
     "output_type": "execute_result"
    }
   ],
   "source": [
    "total_wgt = crosstab_df[\"LV\"].loc[\"WGT\"]\n",
    "total_wgt"
   ]
  },
  {
   "cell_type": "code",
   "execution_count": 16,
   "id": "fa0f2153-380c-415a-9398-b408a6abd24a",
   "metadata": {},
   "outputs": [
    {
     "data": {
      "text/plain": [
       "78"
      ]
     },
     "execution_count": 16,
     "metadata": {},
     "output_type": "execute_result"
    }
   ],
   "source": [
    "total_wgt - (crosstab_df[\"LV\"].loc[\"HARRIS\"] + crosstab_df[\"LV\"].loc[\"TRUMP\"])"
   ]
  },
  {
   "cell_type": "code",
   "execution_count": 17,
   "id": "00eba82a-dbfd-4f14-9e38-d751d7e80823",
   "metadata": {},
   "outputs": [
    {
     "data": {
      "text/plain": [
       "LV                  78.0\n",
       "CD1                 20.0\n",
       "CD2                 21.0\n",
       "CD3                 18.0\n",
       "CD4                 19.0\n",
       "VOTED_2020_TRUMP    25.0\n",
       "VOTED_2020_BIDEN    10.0\n",
       "VOTED_2020_DIDNT    10.0\n",
       "CHILD_LT_18         21.0\n",
       "EDU_NO_COLL         51.0\n",
       "EDU_COLL            24.0\n",
       "Name: OTHER, dtype: float64"
      ]
     },
     "execution_count": 17,
     "metadata": {},
     "output_type": "execute_result"
    }
   ],
   "source": [
    "other_df = crosstab_df[~crosstab_df.index.isin([\"HARRIS\", \"TRUMP\", \"Total Unweighted Respondents\", \"WGT\"])].copy()\n",
    "other = other_df.sum(axis=0)\n",
    "other.name = \"OTHER\"\n",
    "other[\"LV\"] = other[\"LV\"] + 2\n",
    "other"
   ]
  },
  {
   "cell_type": "code",
   "execution_count": 18,
   "id": "c3a06ba2-ae87-4b67-894e-c901e214da5a",
   "metadata": {},
   "outputs": [],
   "source": [
    "crosstab_df = pandas.concat(\n",
    "    [crosstab_df[crosstab_df.index.isin([\"HARRIS\", \"TRUMP\"])], pandas.DataFrame([other])]).reset_index(names=[\"CANDIDATE\"])"
   ]
  },
  {
   "cell_type": "code",
   "execution_count": 19,
   "id": "2f1596e2-cbbc-45e9-a54d-920d17f8ccf9",
   "metadata": {},
   "outputs": [],
   "source": [
    "temp = None\n",
    "\n",
    "for group_cols in CROSSTAB_COL_GROUPS:\n",
    "    df = crosstab_df[CONST_COLS + group_cols].copy()\n",
    "    if group_cols[0] != \"CD1\":\n",
    "        unk_col = group_cols[0].split(\"_\")[0] + \"_\" + \"UNK\"\n",
    "        df[unk_col] = df[\"LV\"] - df[group_cols].sum(axis=1)\n",
    "    if temp is None:\n",
    "        temp = df.copy()\n",
    "    else:\n",
    "        temp = temp.merge(df, on=CONST_COLS, how=\"left\")\n",
    "\n",
    "crosstab_df = temp.copy()"
   ]
  },
  {
   "cell_type": "code",
   "execution_count": 20,
   "id": "a50abeae-1ac8-4607-a69d-1d2e8e043263",
   "metadata": {},
   "outputs": [
    {
     "data": {
      "text/html": [
       "<div>\n",
       "<style scoped>\n",
       "    .dataframe tbody tr th:only-of-type {\n",
       "        vertical-align: middle;\n",
       "    }\n",
       "\n",
       "    .dataframe tbody tr th {\n",
       "        vertical-align: top;\n",
       "    }\n",
       "\n",
       "    .dataframe thead th {\n",
       "        text-align: right;\n",
       "    }\n",
       "</style>\n",
       "<table border=\"1\" class=\"dataframe\">\n",
       "  <thead>\n",
       "    <tr style=\"text-align: right;\">\n",
       "      <th></th>\n",
       "      <th>CANDIDATE</th>\n",
       "      <th>LV</th>\n",
       "      <th>CD1</th>\n",
       "      <th>CD2</th>\n",
       "      <th>CD3</th>\n",
       "      <th>CD4</th>\n",
       "      <th>VOTED_2020_TRUMP</th>\n",
       "      <th>VOTED_2020_BIDEN</th>\n",
       "      <th>VOTED_2020_DIDNT</th>\n",
       "      <th>VOTED_UNK</th>\n",
       "      <th>CHILD_LT_18</th>\n",
       "      <th>CHILD_UNK</th>\n",
       "      <th>EDU_NO_COLL</th>\n",
       "      <th>EDU_COLL</th>\n",
       "      <th>EDU_UNK</th>\n",
       "    </tr>\n",
       "  </thead>\n",
       "  <tbody>\n",
       "    <tr>\n",
       "      <th>0</th>\n",
       "      <td>HARRIS</td>\n",
       "      <td>399.0</td>\n",
       "      <td>113.0</td>\n",
       "      <td>99.0</td>\n",
       "      <td>100.0</td>\n",
       "      <td>87.0</td>\n",
       "      <td>12.0</td>\n",
       "      <td>322.0</td>\n",
       "      <td>48.0</td>\n",
       "      <td>17.0</td>\n",
       "      <td>98.0</td>\n",
       "      <td>301.0</td>\n",
       "      <td>205.0</td>\n",
       "      <td>191.0</td>\n",
       "      <td>3.0</td>\n",
       "    </tr>\n",
       "    <tr>\n",
       "      <th>1</th>\n",
       "      <td>TRUMP</td>\n",
       "      <td>372.0</td>\n",
       "      <td>78.0</td>\n",
       "      <td>97.0</td>\n",
       "      <td>91.0</td>\n",
       "      <td>107.0</td>\n",
       "      <td>299.0</td>\n",
       "      <td>13.0</td>\n",
       "      <td>45.0</td>\n",
       "      <td>15.0</td>\n",
       "      <td>114.0</td>\n",
       "      <td>258.0</td>\n",
       "      <td>270.0</td>\n",
       "      <td>97.0</td>\n",
       "      <td>5.0</td>\n",
       "    </tr>\n",
       "    <tr>\n",
       "      <th>2</th>\n",
       "      <td>OTHER</td>\n",
       "      <td>78.0</td>\n",
       "      <td>20.0</td>\n",
       "      <td>21.0</td>\n",
       "      <td>18.0</td>\n",
       "      <td>19.0</td>\n",
       "      <td>25.0</td>\n",
       "      <td>10.0</td>\n",
       "      <td>10.0</td>\n",
       "      <td>33.0</td>\n",
       "      <td>21.0</td>\n",
       "      <td>57.0</td>\n",
       "      <td>51.0</td>\n",
       "      <td>24.0</td>\n",
       "      <td>3.0</td>\n",
       "    </tr>\n",
       "  </tbody>\n",
       "</table>\n",
       "</div>"
      ],
      "text/plain": [
       "  CANDIDATE     LV    CD1   CD2    CD3    CD4  VOTED_2020_TRUMP  \\\n",
       "0    HARRIS  399.0  113.0  99.0  100.0   87.0              12.0   \n",
       "1     TRUMP  372.0   78.0  97.0   91.0  107.0             299.0   \n",
       "2     OTHER   78.0   20.0  21.0   18.0   19.0              25.0   \n",
       "\n",
       "   VOTED_2020_BIDEN  VOTED_2020_DIDNT  VOTED_UNK  CHILD_LT_18  CHILD_UNK  \\\n",
       "0             322.0              48.0       17.0         98.0      301.0   \n",
       "1              13.0              45.0       15.0        114.0      258.0   \n",
       "2              10.0              10.0       33.0         21.0       57.0   \n",
       "\n",
       "   EDU_NO_COLL  EDU_COLL  EDU_UNK  \n",
       "0        205.0     191.0      3.0  \n",
       "1        270.0      97.0      5.0  \n",
       "2         51.0      24.0      3.0  "
      ]
     },
     "execution_count": 20,
     "metadata": {},
     "output_type": "execute_result"
    }
   ],
   "source": [
    "crosstab_df"
   ]
  },
  {
   "cell_type": "code",
   "execution_count": 21,
   "id": "409d0975-29ba-418a-9258-33c67e27826f",
   "metadata": {},
   "outputs": [
    {
     "data": {
      "text/plain": [
       "CANDIDATE\n",
       "HARRIS    0.469965\n",
       "TRUMP     0.438163\n",
       "OTHER     0.091873\n",
       "Name: LV, dtype: float64"
      ]
     },
     "execution_count": 21,
     "metadata": {},
     "output_type": "execute_result"
    }
   ],
   "source": [
    "crosstab_df.set_index(\"CANDIDATE\")[\"LV\"] / crosstab_df[\"LV\"].sum()"
   ]
  },
  {
   "cell_type": "code",
   "execution_count": 22,
   "id": "5477b1a7-cfd7-4a7e-a04b-b9be6d1e2791",
   "metadata": {},
   "outputs": [
    {
     "data": {
      "text/plain": [
       "0.031802"
      ]
     },
     "execution_count": 22,
     "metadata": {},
     "output_type": "execute_result"
    }
   ],
   "source": [
    "0.469965 - 0.438163"
   ]
  },
  {
   "cell_type": "markdown",
   "id": "ced40d3e-12fd-4613-937d-52652e73a81c",
   "metadata": {},
   "source": [
    "---\n",
    "\n",
    "## Cell Weighting"
   ]
  },
  {
   "cell_type": "code",
   "execution_count": 109,
   "id": "13b090af-d8b8-4cd8-a175-57f4cc8423d0",
   "metadata": {},
   "outputs": [],
   "source": [
    "temp = crosstab_df.set_index(\"CANDIDATE\")[[\"CD1\", \"CD2\", \"CD3\", \"CD4\"]].copy()\n",
    "# temp = temp.div(temp.sum(axis=1), axis=0).rename(columns={c : c + \"_pct\" for c in temp.columns})"
   ]
  },
  {
   "cell_type": "code",
   "execution_count": 110,
   "id": "a242920a-50c5-4f05-bcc2-798a2b5c3bc1",
   "metadata": {},
   "outputs": [],
   "source": [
    "temp2 = CD_REG_DF.copy()\n",
    "temp2.index = [\"HARRIS\", \"TRUMP\", \"OTHER\"]\n",
    "# temp2 = temp2.div(temp2.sum(axis=1), axis=0).rename(columns={c : c + \"_reg\" for c in temp2.columns})\n",
    "temp = temp.join(temp2, rsuffix=\"_reg\")"
   ]
  },
  {
   "cell_type": "code",
   "execution_count": 111,
   "id": "b9c4d7a6-aefe-4bc3-acd0-6b938dc716ca",
   "metadata": {},
   "outputs": [],
   "source": [
    "temp[\"CD1_weight\"] = temp[\"CD1_reg\"] / temp[\"CD1\"]\n",
    "temp[\"CD2_weight\"] = temp[\"CD2_reg\"] / temp[\"CD2\"]\n",
    "temp[\"CD3_weight\"] = temp[\"CD3_reg\"] / temp[\"CD3\"]\n",
    "temp[\"CD4_weight\"] = temp[\"CD4_reg\"] / temp[\"CD4\"]"
   ]
  },
  {
   "cell_type": "code",
   "execution_count": 112,
   "id": "c4014898-6716-40de-85af-f9584b33e7d2",
   "metadata": {},
   "outputs": [
    {
     "data": {
      "text/plain": [
       "1.3512612756225795"
      ]
     },
     "execution_count": 112,
     "metadata": {},
     "output_type": "execute_result"
    }
   ],
   "source": [
    "f(temp[[\"CD1_weight\", \"CD2_weight\", \"CD3_weight\", \"CD4_weight\"]].values)"
   ]
  },
  {
   "cell_type": "code",
   "execution_count": 113,
   "id": "44cdbb1b-b0ff-477a-9697-8b50d2adeb7e",
   "metadata": {},
   "outputs": [
    {
     "data": {
      "text/html": [
       "<div>\n",
       "<style scoped>\n",
       "    .dataframe tbody tr th:only-of-type {\n",
       "        vertical-align: middle;\n",
       "    }\n",
       "\n",
       "    .dataframe tbody tr th {\n",
       "        vertical-align: top;\n",
       "    }\n",
       "\n",
       "    .dataframe thead th {\n",
       "        text-align: right;\n",
       "    }\n",
       "</style>\n",
       "<table border=\"1\" class=\"dataframe\">\n",
       "  <thead>\n",
       "    <tr style=\"text-align: right;\">\n",
       "      <th></th>\n",
       "      <th>CD1</th>\n",
       "      <th>CD2</th>\n",
       "      <th>CD3</th>\n",
       "      <th>CD4</th>\n",
       "      <th>CD1_reg</th>\n",
       "      <th>CD2_reg</th>\n",
       "      <th>CD3_reg</th>\n",
       "      <th>CD4_reg</th>\n",
       "      <th>CD1_weight</th>\n",
       "      <th>CD2_weight</th>\n",
       "      <th>CD3_weight</th>\n",
       "      <th>CD4_weight</th>\n",
       "    </tr>\n",
       "    <tr>\n",
       "      <th>CANDIDATE</th>\n",
       "      <th></th>\n",
       "      <th></th>\n",
       "      <th></th>\n",
       "      <th></th>\n",
       "      <th></th>\n",
       "      <th></th>\n",
       "      <th></th>\n",
       "      <th></th>\n",
       "      <th></th>\n",
       "      <th></th>\n",
       "      <th></th>\n",
       "      <th></th>\n",
       "    </tr>\n",
       "  </thead>\n",
       "  <tbody>\n",
       "    <tr>\n",
       "      <th>HARRIS</th>\n",
       "      <td>113.0</td>\n",
       "      <td>99.0</td>\n",
       "      <td>100.0</td>\n",
       "      <td>87.0</td>\n",
       "      <td>177921</td>\n",
       "      <td>170303</td>\n",
       "      <td>179174</td>\n",
       "      <td>123853</td>\n",
       "      <td>1574.522124</td>\n",
       "      <td>1720.232323</td>\n",
       "      <td>1791.740000</td>\n",
       "      <td>1423.597701</td>\n",
       "    </tr>\n",
       "    <tr>\n",
       "      <th>TRUMP</th>\n",
       "      <td>78.0</td>\n",
       "      <td>97.0</td>\n",
       "      <td>91.0</td>\n",
       "      <td>107.0</td>\n",
       "      <td>184254</td>\n",
       "      <td>180260</td>\n",
       "      <td>184382</td>\n",
       "      <td>237237</td>\n",
       "      <td>2362.230769</td>\n",
       "      <td>1858.350515</td>\n",
       "      <td>2026.175824</td>\n",
       "      <td>2217.168224</td>\n",
       "    </tr>\n",
       "    <tr>\n",
       "      <th>OTHER</th>\n",
       "      <td>20.0</td>\n",
       "      <td>21.0</td>\n",
       "      <td>18.0</td>\n",
       "      <td>19.0</td>\n",
       "      <td>5197</td>\n",
       "      <td>5005</td>\n",
       "      <td>5554</td>\n",
       "      <td>5207</td>\n",
       "      <td>259.850000</td>\n",
       "      <td>238.333333</td>\n",
       "      <td>308.555556</td>\n",
       "      <td>274.052632</td>\n",
       "    </tr>\n",
       "  </tbody>\n",
       "</table>\n",
       "</div>"
      ],
      "text/plain": [
       "             CD1   CD2    CD3    CD4  CD1_reg  CD2_reg  CD3_reg  CD4_reg  \\\n",
       "CANDIDATE                                                                  \n",
       "HARRIS     113.0  99.0  100.0   87.0   177921   170303   179174   123853   \n",
       "TRUMP       78.0  97.0   91.0  107.0   184254   180260   184382   237237   \n",
       "OTHER       20.0  21.0   18.0   19.0     5197     5005     5554     5207   \n",
       "\n",
       "            CD1_weight   CD2_weight   CD3_weight   CD4_weight  \n",
       "CANDIDATE                                                      \n",
       "HARRIS     1574.522124  1720.232323  1791.740000  1423.597701  \n",
       "TRUMP      2362.230769  1858.350515  2026.175824  2217.168224  \n",
       "OTHER       259.850000   238.333333   308.555556   274.052632  "
      ]
     },
     "execution_count": 113,
     "metadata": {},
     "output_type": "execute_result"
    }
   ],
   "source": [
    "temp"
   ]
  },
  {
   "cell_type": "code",
   "execution_count": 114,
   "id": "ad546582-40c5-4d0f-b108-e48718db83da",
   "metadata": {},
   "outputs": [
    {
     "data": {
      "text/plain": [
       "CANDIDATE\n",
       "HARRIS    0.405492\n",
       "TRUMP     0.527189\n",
       "OTHER     0.067319\n",
       "dtype: float64"
      ]
     },
     "execution_count": 114,
     "metadata": {},
     "output_type": "execute_result"
    }
   ],
   "source": [
    "(temp[[\"CD1_weight\", \"CD2_weight\", \"CD3_weight\", \"CD4_weight\"]].sum(axis=1) /\n",
    " temp[[\"CD1_weight\", \"CD2_weight\", \"CD3_weight\", \"CD4_weight\"]].sum(axis=1).sum())"
   ]
  },
  {
   "cell_type": "code",
   "execution_count": null,
   "id": "7c8a0a52-83c1-4136-a9fb-60f0411655e0",
   "metadata": {},
   "outputs": [],
   "source": []
  }
 ],
 "metadata": {
  "kernelspec": {
   "display_name": "Python 3 (ipykernel)",
   "language": "python",
   "name": "python3"
  },
  "language_info": {
   "codemirror_mode": {
    "name": "ipython",
    "version": 3
   },
   "file_extension": ".py",
   "mimetype": "text/x-python",
   "name": "python",
   "nbconvert_exporter": "python",
   "pygments_lexer": "ipython3",
   "version": "3.12.7"
  }
 },
 "nbformat": 4,
 "nbformat_minor": 5
}
